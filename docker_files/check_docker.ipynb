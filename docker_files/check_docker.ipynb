{
 "cells": [
  {
   "cell_type": "code",
   "execution_count": 1,
   "metadata": {
    "collapsed": true
   },
   "outputs": [],
   "source": [
    "import xgboost, lightgbm"
   ]
  },
  {
   "cell_type": "code",
   "execution_count": 2,
   "metadata": {},
   "outputs": [
    {
     "name": "stderr",
     "output_type": "stream",
     "text": [
      "Using TensorFlow backend.\n"
     ]
    }
   ],
   "source": [
    "import keras"
   ]
  },
  {
   "cell_type": "code",
   "execution_count": 3,
   "metadata": {},
   "outputs": [
    {
     "name": "stdout",
     "output_type": "stream",
     "text": [
      "8.3.2\r\n"
     ]
    }
   ],
   "source": [
    "!vw --version"
   ]
  },
  {
   "cell_type": "code",
   "execution_count": 4,
   "metadata": {},
   "outputs": [
    {
     "name": "stdout",
     "output_type": "stream",
     "text": [
      "CPython 3.5.2\n",
      "IPython 5.3.0\n",
      "\n",
      "numpy 1.12.1\n",
      "scipy 0.19.0\n",
      "pandas 0.19.2\n",
      "matplotlib 2.0.0\n",
      "sklearn 0.18.1\n",
      "\n",
      "compiler   : GCC 5.4.0 20160609\n",
      "system     : Linux\n",
      "release    : 4.9.13-moby\n",
      "machine    : x86_64\n",
      "processor  : x86_64\n",
      "CPU cores  : 4\n",
      "interpreter: 64bit\n"
     ]
    }
   ],
   "source": [
    "%load_ext watermark\n",
    "%watermark -v -m -p numpy,scipy,pandas,matplotlib,sklearn "
   ]
  },
  {
   "cell_type": "code",
   "execution_count": 5,
   "metadata": {
    "collapsed": true
   },
   "outputs": [],
   "source": [
    "import warnings\n",
    "warnings.filterwarnings('ignore')\n",
    "%matplotlib inline\n",
    "from matplotlib import pyplot as plt\n",
    "import seaborn as sns\n",
    "import pandas as pd\n",
    "from sklearn import datasets\n",
    "from sklearn.model_selection import train_test_split\n",
    "from sklearn.metrics import roc_curve"
   ]
  },
  {
   "cell_type": "code",
   "execution_count": 6,
   "metadata": {},
   "outputs": [
    {
     "name": "stderr",
     "output_type": "stream",
     "text": [
      "Widget Javascript not detected.  It may not be installed or enabled properly.\n"
     ]
    },
    {
     "data": {
      "application/vnd.jupyter.widget-view+json": {
       "model_id": "692e2c4d852f4eed9adffa27c74007bc"
      }
     },
     "metadata": {},
     "output_type": "display_data"
    },
    {
     "name": "stdout",
     "output_type": "stream",
     "text": [
      "\n"
     ]
    }
   ],
   "source": [
    "import time\n",
    "from tqdm import tqdm_notebook\n",
    "for i in tqdm_notebook(range(100)):\n",
    "    time.sleep(0.05)"
   ]
  },
  {
   "cell_type": "code",
   "execution_count": 7,
   "metadata": {},
   "outputs": [
    {
     "data": {
      "text/html": [
       "<div>\n",
       "<table border=\"1\" class=\"dataframe\">\n",
       "  <thead>\n",
       "    <tr style=\"text-align: right;\">\n",
       "      <th></th>\n",
       "      <th>0</th>\n",
       "      <th>1</th>\n",
       "      <th>2</th>\n",
       "      <th>3</th>\n",
       "      <th>4</th>\n",
       "      <th>5</th>\n",
       "      <th>6</th>\n",
       "      <th>7</th>\n",
       "      <th>8</th>\n",
       "      <th>9</th>\n",
       "      <th>...</th>\n",
       "      <th>20</th>\n",
       "      <th>21</th>\n",
       "      <th>22</th>\n",
       "      <th>23</th>\n",
       "      <th>24</th>\n",
       "      <th>25</th>\n",
       "      <th>26</th>\n",
       "      <th>27</th>\n",
       "      <th>28</th>\n",
       "      <th>29</th>\n",
       "    </tr>\n",
       "  </thead>\n",
       "  <tbody>\n",
       "    <tr>\n",
       "      <th>0</th>\n",
       "      <td>-0.074328</td>\n",
       "      <td>-1.115092</td>\n",
       "      <td>2.027062</td>\n",
       "      <td>-0.134142</td>\n",
       "      <td>-0.518887</td>\n",
       "      <td>0.302616</td>\n",
       "      <td>-0.193959</td>\n",
       "      <td>-1.074473</td>\n",
       "      <td>0.779969</td>\n",
       "      <td>1.185224</td>\n",
       "      <td>...</td>\n",
       "      <td>-0.949554</td>\n",
       "      <td>0.019786</td>\n",
       "      <td>-2.387889</td>\n",
       "      <td>1.624363</td>\n",
       "      <td>0.516348</td>\n",
       "      <td>1.228524</td>\n",
       "      <td>0.046311</td>\n",
       "      <td>-0.785742</td>\n",
       "      <td>0.450605</td>\n",
       "      <td>0.548390</td>\n",
       "    </tr>\n",
       "    <tr>\n",
       "      <th>1</th>\n",
       "      <td>-0.521049</td>\n",
       "      <td>1.161237</td>\n",
       "      <td>-0.037720</td>\n",
       "      <td>0.565458</td>\n",
       "      <td>0.545896</td>\n",
       "      <td>-1.378488</td>\n",
       "      <td>1.078203</td>\n",
       "      <td>-0.952323</td>\n",
       "      <td>-0.753114</td>\n",
       "      <td>1.160114</td>\n",
       "      <td>...</td>\n",
       "      <td>0.494468</td>\n",
       "      <td>-1.322054</td>\n",
       "      <td>0.419597</td>\n",
       "      <td>0.011233</td>\n",
       "      <td>-0.411512</td>\n",
       "      <td>0.951589</td>\n",
       "      <td>0.742394</td>\n",
       "      <td>0.398281</td>\n",
       "      <td>0.649214</td>\n",
       "      <td>-0.550771</td>\n",
       "    </tr>\n",
       "    <tr>\n",
       "      <th>2</th>\n",
       "      <td>-1.259291</td>\n",
       "      <td>0.160987</td>\n",
       "      <td>-0.312389</td>\n",
       "      <td>0.244061</td>\n",
       "      <td>0.611524</td>\n",
       "      <td>0.918271</td>\n",
       "      <td>0.455367</td>\n",
       "      <td>-0.602589</td>\n",
       "      <td>-0.671962</td>\n",
       "      <td>0.788968</td>\n",
       "      <td>...</td>\n",
       "      <td>-1.389355</td>\n",
       "      <td>1.699387</td>\n",
       "      <td>-0.803740</td>\n",
       "      <td>0.823745</td>\n",
       "      <td>-1.314579</td>\n",
       "      <td>-1.154292</td>\n",
       "      <td>-0.287189</td>\n",
       "      <td>1.982463</td>\n",
       "      <td>-0.515677</td>\n",
       "      <td>-0.141893</td>\n",
       "    </tr>\n",
       "    <tr>\n",
       "      <th>3</th>\n",
       "      <td>1.157270</td>\n",
       "      <td>-0.329808</td>\n",
       "      <td>-0.195782</td>\n",
       "      <td>-1.446747</td>\n",
       "      <td>-0.573041</td>\n",
       "      <td>-0.377221</td>\n",
       "      <td>-0.479940</td>\n",
       "      <td>0.744432</td>\n",
       "      <td>-1.020537</td>\n",
       "      <td>-0.667856</td>\n",
       "      <td>...</td>\n",
       "      <td>0.062299</td>\n",
       "      <td>1.138880</td>\n",
       "      <td>-0.874381</td>\n",
       "      <td>0.023135</td>\n",
       "      <td>-1.398540</td>\n",
       "      <td>-0.454838</td>\n",
       "      <td>-0.133668</td>\n",
       "      <td>0.097147</td>\n",
       "      <td>-0.201890</td>\n",
       "      <td>0.855246</td>\n",
       "    </tr>\n",
       "    <tr>\n",
       "      <th>4</th>\n",
       "      <td>0.507383</td>\n",
       "      <td>0.384731</td>\n",
       "      <td>-0.907144</td>\n",
       "      <td>1.035555</td>\n",
       "      <td>-0.060606</td>\n",
       "      <td>2.450749</td>\n",
       "      <td>1.027166</td>\n",
       "      <td>-0.098693</td>\n",
       "      <td>-0.577869</td>\n",
       "      <td>2.107642</td>\n",
       "      <td>...</td>\n",
       "      <td>1.425610</td>\n",
       "      <td>0.985390</td>\n",
       "      <td>-0.422342</td>\n",
       "      <td>0.141064</td>\n",
       "      <td>-0.329048</td>\n",
       "      <td>-0.623154</td>\n",
       "      <td>2.362511</td>\n",
       "      <td>1.556701</td>\n",
       "      <td>0.411348</td>\n",
       "      <td>-0.063244</td>\n",
       "    </tr>\n",
       "  </tbody>\n",
       "</table>\n",
       "<p>5 rows × 30 columns</p>\n",
       "</div>"
      ],
      "text/plain": [
       "         0         1         2         3         4         5         6   \\\n",
       "0 -0.074328 -1.115092  2.027062 -0.134142 -0.518887  0.302616 -0.193959   \n",
       "1 -0.521049  1.161237 -0.037720  0.565458  0.545896 -1.378488  1.078203   \n",
       "2 -1.259291  0.160987 -0.312389  0.244061  0.611524  0.918271  0.455367   \n",
       "3  1.157270 -0.329808 -0.195782 -1.446747 -0.573041 -0.377221 -0.479940   \n",
       "4  0.507383  0.384731 -0.907144  1.035555 -0.060606  2.450749  1.027166   \n",
       "\n",
       "         7         8         9     ...           20        21        22  \\\n",
       "0 -1.074473  0.779969  1.185224    ...    -0.949554  0.019786 -2.387889   \n",
       "1 -0.952323 -0.753114  1.160114    ...     0.494468 -1.322054  0.419597   \n",
       "2 -0.602589 -0.671962  0.788968    ...    -1.389355  1.699387 -0.803740   \n",
       "3  0.744432 -1.020537 -0.667856    ...     0.062299  1.138880 -0.874381   \n",
       "4 -0.098693 -0.577869  2.107642    ...     1.425610  0.985390 -0.422342   \n",
       "\n",
       "         23        24        25        26        27        28        29  \n",
       "0  1.624363  0.516348  1.228524  0.046311 -0.785742  0.450605  0.548390  \n",
       "1  0.011233 -0.411512  0.951589  0.742394  0.398281  0.649214 -0.550771  \n",
       "2  0.823745 -1.314579 -1.154292 -0.287189  1.982463 -0.515677 -0.141893  \n",
       "3  0.023135 -1.398540 -0.454838 -0.133668  0.097147 -0.201890  0.855246  \n",
       "4  0.141064 -0.329048 -0.623154  2.362511  1.556701  0.411348 -0.063244  \n",
       "\n",
       "[5 rows x 30 columns]"
      ]
     },
     "execution_count": 7,
     "metadata": {},
     "output_type": "execute_result"
    }
   ],
   "source": [
    "X, Y = datasets.make_classification(10000, 30)\n",
    "pd.DataFrame(X).head(5)"
   ]
  },
  {
   "cell_type": "code",
   "execution_count": 8,
   "metadata": {
    "collapsed": true
   },
   "outputs": [],
   "source": [
    "X_train, X_test, y_train, y_test = train_test_split(X, Y)\n",
    "clsf = xgboost.XGBClassifier(n_estimators=200)\n",
    "clsf.fit(X_train, y_train)\n",
    "prediction = clsf.predict_proba(X_test)"
   ]
  },
  {
   "cell_type": "code",
   "execution_count": 9,
   "metadata": {},
   "outputs": [
    {
     "data": {
      "image/png": "[encoded data removed]",
      "text/plain": [
       "<matplotlib.figure.Figure at 0x7f8ad57a3a20>"
      ]
     },
     "metadata": {},
     "output_type": "display_data"
    }
   ],
   "source": [
    "fpr, tpr, _ = roc_curve(y_test, prediction[:,1])\n",
    "plt.plot(fpr, tpr);"
   ]
  }
 ],
 "metadata": {
  "kernelspec": {
   "display_name": "Python 3",
   "language": "python",
   "name": "python3"
  },
  "language_info": {
   "codemirror_mode": {
    "name": "ipython",
    "version": 3
   },
   "file_extension": ".py",
   "mimetype": "text/x-python",
   "name": "python",
   "nbconvert_exporter": "python",
   "pygments_lexer": "ipython3",
   "version": "3.5.2"
  }
 },
 "nbformat": 4,
 "nbformat_minor": 1
}
