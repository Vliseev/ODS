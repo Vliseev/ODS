{
 "cells": [
  {
   "cell_type": "markdown",
   "metadata": {},
   "source": [
    "<center>\n",
    "<img src=\"../../img/ods_stickers.jpg\">\n",
    "## Открытый курс по машинному обучению\n",
    "</center>\n",
    "<center>Автор материала: Ольга Дайховская"
   ]
  },
  {
   "cell_type": "markdown",
   "metadata": {},
   "source": [
    "# <center> Домашнее задание № 4. Часть 2. Решение\n",
    "## <center>  Прогнозирование популярности статей на TechMedia с помощью линейных моделей"
   ]
  },
  {
   "cell_type": "markdown",
   "metadata": {},
   "source": [
    "**В задании Вам предлагается разобраться с тем, как работает TfidfVectorizer и DictVectorizer, затем обучить и настроить модель линейной регрессии Ridge на данных о публикациях на Хабрахабре. Пройдя все шаги, вы сможете получить бейзлайн для [соревнования](https://inclass.kaggle.com/c/howpop-habrahabr-favs-lognorm). \n",
    "Ответьте на все вопросы в этой тетрадке и заполните ответы в [гугл-форме](https://docs.google.com/forms/d/e/1FAIpQLSd8E7naU38ikc9-rd31KeVfez3emCo4Ok1WrpQTr-XCDelRiw/viewform).**"
   ]
  },
  {
   "cell_type": "markdown",
   "metadata": {},
   "source": [
    "**Описание соревнования**\n",
    "\n",
    "Предскажите, как много звездочек наберет статья, зная только ее текст и время публикации\n",
    "\n",
    "Необходимо предсказать популярность поста на Хабре по содержанию и времени публикации. Как известно, пользователи Хабра могут добавлять статьи к себе в избранное. Общее количество пользователей, которое это сделали отображается у статьи количеством звездочек. Будем считать, что число звездочек, поставленных статье, наиболее хорошо отражает ее популярность.\n",
    "\n",
    "Более формально, в качестве метрики популярности статьи будем использовать долю статей за последний месяц, у которых количество звездочек меньше чем у текущей статьи. А точнее, доле числа звездочек можно поставить в соответствие квантили стандартного распределения, таким образом получаем числовую характеристику популярности статьи. Популярность статьи 0 означает, что статья получила ровно столько звездочек, сколько в среднем получают статьи. И соответственно чем больше звездочек получила статья по сравнению со средним, тем выше это число."
   ]
  },
  {
   "cell_type": "markdown",
   "metadata": {},
   "source": [
    "**Приступим:** импортируем необходимые библиотеки и скачаем данные"
   ]
  },
  {
   "cell_type": "code",
   "execution_count": 2,
   "metadata": {
    "collapsed": false
   },
   "outputs": [],
   "source": [
    "import pandas as pd\n",
    "\n",
    "from sklearn.feature_extraction.text import TfidfVectorizer\n",
    "from sklearn.feature_extraction import DictVectorizer\n",
    "\n",
    "#В зависимости от версии sklearn\n",
    "#from sklearn.model_selection import train_test_split\n",
    "from sklearn.cross_validation import train_test_split\n",
    "\n",
    "from sklearn.linear_model import Ridge\n",
    "from sklearn.metrics import mean_squared_error\n",
    "\n",
    "import numpy as np\n",
    "import scipy\n",
    "\n",
    "%matplotlib inline\n",
    "from matplotlib import pyplot as plt"
   ]
  },
  {
   "cell_type": "code",
   "execution_count": 3,
   "metadata": {
    "collapsed": false,
    "scrolled": true
   },
   "outputs": [],
   "source": [
    "train_df = pd.read_csv('../../data/howpop_train.csv')\n",
    "test_df  = pd.read_csv('../../data/howpop_test.csv')"
   ]
  },
  {
   "cell_type": "code",
   "execution_count": 35,
   "metadata": {
    "collapsed": false
   },
   "outputs": [
    {
     "data": {
      "text/html": [
       "<div>\n",
       "<table border=\"1\" class=\"dataframe\">\n",
       "  <thead>\n",
       "    <tr style=\"text-align: right;\">\n",
       "      <th></th>\n",
       "      <th>0</th>\n",
       "    </tr>\n",
       "  </thead>\n",
       "  <tbody>\n",
       "    <tr>\n",
       "      <th>url</th>\n",
       "      <td>https://habrahabr.ru/post/18284/</td>\n",
       "    </tr>\n",
       "    <tr>\n",
       "      <th>domain</th>\n",
       "      <td>habrahabr.ru</td>\n",
       "    </tr>\n",
       "    <tr>\n",
       "      <th>post_id</th>\n",
       "      <td>18284</td>\n",
       "    </tr>\n",
       "    <tr>\n",
       "      <th>published</th>\n",
       "      <td>2008-01-01 18:19:00</td>\n",
       "    </tr>\n",
       "    <tr>\n",
       "      <th>author</th>\n",
       "      <td>@Tapac</td>\n",
       "    </tr>\n",
       "    <tr>\n",
       "      <th>flow</th>\n",
       "      <td>develop</td>\n",
       "    </tr>\n",
       "    <tr>\n",
       "      <th>polling</th>\n",
       "      <td>False</td>\n",
       "    </tr>\n",
       "    <tr>\n",
       "      <th>content_len</th>\n",
       "      <td>4305</td>\n",
       "    </tr>\n",
       "    <tr>\n",
       "      <th>title</th>\n",
       "      <td>Новогодний подарок блоггерам — WordPress 2.3.2</td>\n",
       "    </tr>\n",
       "    <tr>\n",
       "      <th>comments</th>\n",
       "      <td>0</td>\n",
       "    </tr>\n",
       "    <tr>\n",
       "      <th>favs</th>\n",
       "      <td>0</td>\n",
       "    </tr>\n",
       "    <tr>\n",
       "      <th>views</th>\n",
       "      <td>236</td>\n",
       "    </tr>\n",
       "    <tr>\n",
       "      <th>votes_plus</th>\n",
       "      <td>0</td>\n",
       "    </tr>\n",
       "    <tr>\n",
       "      <th>votes_minus</th>\n",
       "      <td>0</td>\n",
       "    </tr>\n",
       "    <tr>\n",
       "      <th>views_lognorm</th>\n",
       "      <td>-0.792687</td>\n",
       "    </tr>\n",
       "    <tr>\n",
       "      <th>favs_lognorm</th>\n",
       "      <td>-1.34407</td>\n",
       "    </tr>\n",
       "    <tr>\n",
       "      <th>comments_lognorm</th>\n",
       "      <td>-2.43687</td>\n",
       "    </tr>\n",
       "  </tbody>\n",
       "</table>\n",
       "</div>"
      ],
      "text/plain": [
       "                                                               0\n",
       "url                             https://habrahabr.ru/post/18284/\n",
       "domain                                              habrahabr.ru\n",
       "post_id                                                    18284\n",
       "published                                    2008-01-01 18:19:00\n",
       "author                                                    @Tapac\n",
       "flow                                                     develop\n",
       "polling                                                    False\n",
       "content_len                                                 4305\n",
       "title             Новогодний подарок блоггерам — WordPress 2.3.2\n",
       "comments                                                       0\n",
       "favs                                                           0\n",
       "views                                                        236\n",
       "votes_plus                                                     0\n",
       "votes_minus                                                    0\n",
       "views_lognorm                                          -0.792687\n",
       "favs_lognorm                                            -1.34407\n",
       "comments_lognorm                                        -2.43687"
      ]
     },
     "execution_count": 35,
     "metadata": {},
     "output_type": "execute_result"
    }
   ],
   "source": [
    "train_df.head(1).T"
   ]
  },
  {
   "cell_type": "code",
   "execution_count": 5,
   "metadata": {
    "collapsed": false
   },
   "outputs": [
    {
     "data": {
      "text/plain": [
       "((134137, 17), (3990, 9))"
      ]
     },
     "execution_count": 5,
     "metadata": {},
     "output_type": "execute_result"
    }
   ],
   "source": [
    "train_df.shape, test_df.shape"
   ]
  },
  {
   "cell_type": "markdown",
   "metadata": {},
   "source": [
    "Убедимся, что данные отсортированы по признаку `published`"
   ]
  },
  {
   "cell_type": "code",
   "execution_count": 7,
   "metadata": {
    "collapsed": false
   },
   "outputs": [
    {
     "data": {
      "image/png": "[encoded data removed]",
      "text/plain": [
       "<matplotlib.figure.Figure at 0x7eff4c195da0>"
      ]
     },
     "metadata": {},
     "output_type": "display_data"
    }
   ],
   "source": [
    "train_df['published'].apply(lambda ts: pd.to_datetime(ts).value).plot();"
   ]
  },
  {
   "cell_type": "markdown",
   "metadata": {},
   "source": [
    "**Чтобы ответить на вопросы 1 и 2, можно использовать [pandas.DataFrame.corr()](http://pandas.pydata.org/pandas-docs/stable/generated/pandas.DataFrame.corr.html), [pandas.to_datetime()](http://pandas.pydata.org/pandas-docs/stable/generated/pandas.to_datetime.html) и [pandas.Series.value_counts()](http://pandas.pydata.org/pandas-docs/stable/generated/pandas.Series.value_counts.html)**"
   ]
  },
  {
   "cell_type": "markdown",
   "metadata": {},
   "source": [
    "<font color='red'>Вопрос 1.</font> Есть ли в train_df признаки, корреляция между которыми больше 0.9? Обратите внимание, именно различные признаки - корреляция признака с самим собой естественно больше 0.9 :)\n",
    "- да\n",
    "- **нет**\n",
    "- не знаю"
   ]
  },
  {
   "cell_type": "code",
   "execution_count": 5,
   "metadata": {
    "collapsed": false
   },
   "outputs": [
    {
     "data": {
      "text/html": [
       "<div>\n",
       "<table border=\"1\" class=\"dataframe\">\n",
       "  <thead>\n",
       "    <tr style=\"text-align: right;\">\n",
       "      <th></th>\n",
       "      <th>post_id</th>\n",
       "      <th>polling</th>\n",
       "      <th>content_len</th>\n",
       "      <th>comments</th>\n",
       "      <th>favs</th>\n",
       "      <th>views</th>\n",
       "      <th>votes_plus</th>\n",
       "      <th>votes_minus</th>\n",
       "      <th>views_lognorm</th>\n",
       "      <th>favs_lognorm</th>\n",
       "      <th>comments_lognorm</th>\n",
       "    </tr>\n",
       "  </thead>\n",
       "  <tbody>\n",
       "    <tr>\n",
       "      <th>post_id</th>\n",
       "      <td>1.000000</td>\n",
       "      <td>0.081628</td>\n",
       "      <td>0.241384</td>\n",
       "      <td>-0.147763</td>\n",
       "      <td>0.089313</td>\n",
       "      <td>0.132385</td>\n",
       "      <td>-0.187885</td>\n",
       "      <td>-0.235594</td>\n",
       "      <td>-0.010376</td>\n",
       "      <td>-0.005845</td>\n",
       "      <td>-0.001605</td>\n",
       "    </tr>\n",
       "    <tr>\n",
       "      <th>polling</th>\n",
       "      <td>0.081628</td>\n",
       "      <td>1.000000</td>\n",
       "      <td>-0.003337</td>\n",
       "      <td>0.042605</td>\n",
       "      <td>0.006882</td>\n",
       "      <td>0.025660</td>\n",
       "      <td>-0.033505</td>\n",
       "      <td>0.027116</td>\n",
       "      <td>-0.003523</td>\n",
       "      <td>-0.036385</td>\n",
       "      <td>0.071417</td>\n",
       "    </tr>\n",
       "    <tr>\n",
       "      <th>content_len</th>\n",
       "      <td>0.241384</td>\n",
       "      <td>-0.003337</td>\n",
       "      <td>1.000000</td>\n",
       "      <td>-0.023544</td>\n",
       "      <td>0.308194</td>\n",
       "      <td>0.204101</td>\n",
       "      <td>0.068779</td>\n",
       "      <td>-0.078686</td>\n",
       "      <td>0.246063</td>\n",
       "      <td>0.356481</td>\n",
       "      <td>0.073132</td>\n",
       "    </tr>\n",
       "    <tr>\n",
       "      <th>comments</th>\n",
       "      <td>-0.147763</td>\n",
       "      <td>0.042605</td>\n",
       "      <td>-0.023544</td>\n",
       "      <td>1.000000</td>\n",
       "      <td>0.164166</td>\n",
       "      <td>0.290035</td>\n",
       "      <td>0.613961</td>\n",
       "      <td>0.457638</td>\n",
       "      <td>0.349568</td>\n",
       "      <td>0.278942</td>\n",
       "      <td>0.662740</td>\n",
       "    </tr>\n",
       "    <tr>\n",
       "      <th>favs</th>\n",
       "      <td>0.089313</td>\n",
       "      <td>0.006882</td>\n",
       "      <td>0.308194</td>\n",
       "      <td>0.164166</td>\n",
       "      <td>1.000000</td>\n",
       "      <td>0.634304</td>\n",
       "      <td>0.416241</td>\n",
       "      <td>0.062877</td>\n",
       "      <td>0.456097</td>\n",
       "      <td>0.587982</td>\n",
       "      <td>0.263239</td>\n",
       "    </tr>\n",
       "    <tr>\n",
       "      <th>views</th>\n",
       "      <td>0.132385</td>\n",
       "      <td>0.025660</td>\n",
       "      <td>0.204101</td>\n",
       "      <td>0.290035</td>\n",
       "      <td>0.634304</td>\n",
       "      <td>1.000000</td>\n",
       "      <td>0.396849</td>\n",
       "      <td>0.128654</td>\n",
       "      <td>0.585105</td>\n",
       "      <td>0.406782</td>\n",
       "      <td>0.326427</td>\n",
       "    </tr>\n",
       "    <tr>\n",
       "      <th>votes_plus</th>\n",
       "      <td>-0.187885</td>\n",
       "      <td>-0.033505</td>\n",
       "      <td>0.068779</td>\n",
       "      <td>0.613961</td>\n",
       "      <td>0.416241</td>\n",
       "      <td>0.396849</td>\n",
       "      <td>1.000000</td>\n",
       "      <td>0.464168</td>\n",
       "      <td>0.414232</td>\n",
       "      <td>0.449712</td>\n",
       "      <td>0.525081</td>\n",
       "    </tr>\n",
       "    <tr>\n",
       "      <th>votes_minus</th>\n",
       "      <td>-0.235594</td>\n",
       "      <td>0.027116</td>\n",
       "      <td>-0.078686</td>\n",
       "      <td>0.457638</td>\n",
       "      <td>0.062877</td>\n",
       "      <td>0.128654</td>\n",
       "      <td>0.464168</td>\n",
       "      <td>1.000000</td>\n",
       "      <td>0.146609</td>\n",
       "      <td>0.088226</td>\n",
       "      <td>0.355458</td>\n",
       "    </tr>\n",
       "    <tr>\n",
       "      <th>views_lognorm</th>\n",
       "      <td>-0.010376</td>\n",
       "      <td>-0.003523</td>\n",
       "      <td>0.246063</td>\n",
       "      <td>0.349568</td>\n",
       "      <td>0.456097</td>\n",
       "      <td>0.585105</td>\n",
       "      <td>0.414232</td>\n",
       "      <td>0.146609</td>\n",
       "      <td>1.000000</td>\n",
       "      <td>0.688811</td>\n",
       "      <td>0.546530</td>\n",
       "    </tr>\n",
       "    <tr>\n",
       "      <th>favs_lognorm</th>\n",
       "      <td>-0.005845</td>\n",
       "      <td>-0.036385</td>\n",
       "      <td>0.356481</td>\n",
       "      <td>0.278942</td>\n",
       "      <td>0.587982</td>\n",
       "      <td>0.406782</td>\n",
       "      <td>0.449712</td>\n",
       "      <td>0.088226</td>\n",
       "      <td>0.688811</td>\n",
       "      <td>1.000000</td>\n",
       "      <td>0.479476</td>\n",
       "    </tr>\n",
       "    <tr>\n",
       "      <th>comments_lognorm</th>\n",
       "      <td>-0.001605</td>\n",
       "      <td>0.071417</td>\n",
       "      <td>0.073132</td>\n",
       "      <td>0.662740</td>\n",
       "      <td>0.263239</td>\n",
       "      <td>0.326427</td>\n",
       "      <td>0.525081</td>\n",
       "      <td>0.355458</td>\n",
       "      <td>0.546530</td>\n",
       "      <td>0.479476</td>\n",
       "      <td>1.000000</td>\n",
       "    </tr>\n",
       "  </tbody>\n",
       "</table>\n",
       "</div>"
      ],
      "text/plain": [
       "                   post_id   polling  content_len  comments      favs  \\\n",
       "post_id           1.000000  0.081628     0.241384 -0.147763  0.089313   \n",
       "polling           0.081628  1.000000    -0.003337  0.042605  0.006882   \n",
       "content_len       0.241384 -0.003337     1.000000 -0.023544  0.308194   \n",
       "comments         -0.147763  0.042605    -0.023544  1.000000  0.164166   \n",
       "favs              0.089313  0.006882     0.308194  0.164166  1.000000   \n",
       "views             0.132385  0.025660     0.204101  0.290035  0.634304   \n",
       "votes_plus       -0.187885 -0.033505     0.068779  0.613961  0.416241   \n",
       "votes_minus      -0.235594  0.027116    -0.078686  0.457638  0.062877   \n",
       "views_lognorm    -0.010376 -0.003523     0.246063  0.349568  0.456097   \n",
       "favs_lognorm     -0.005845 -0.036385     0.356481  0.278942  0.587982   \n",
       "comments_lognorm -0.001605  0.071417     0.073132  0.662740  0.263239   \n",
       "\n",
       "                     views  votes_plus  votes_minus  views_lognorm  \\\n",
       "post_id           0.132385   -0.187885    -0.235594      -0.010376   \n",
       "polling           0.025660   -0.033505     0.027116      -0.003523   \n",
       "content_len       0.204101    0.068779    -0.078686       0.246063   \n",
       "comments          0.290035    0.613961     0.457638       0.349568   \n",
       "favs              0.634304    0.416241     0.062877       0.456097   \n",
       "views             1.000000    0.396849     0.128654       0.585105   \n",
       "votes_plus        0.396849    1.000000     0.464168       0.414232   \n",
       "votes_minus       0.128654    0.464168     1.000000       0.146609   \n",
       "views_lognorm     0.585105    0.414232     0.146609       1.000000   \n",
       "favs_lognorm      0.406782    0.449712     0.088226       0.688811   \n",
       "comments_lognorm  0.326427    0.525081     0.355458       0.546530   \n",
       "\n",
       "                  favs_lognorm  comments_lognorm  \n",
       "post_id              -0.005845         -0.001605  \n",
       "polling              -0.036385          0.071417  \n",
       "content_len           0.356481          0.073132  \n",
       "comments              0.278942          0.662740  \n",
       "favs                  0.587982          0.263239  \n",
       "views                 0.406782          0.326427  \n",
       "votes_plus            0.449712          0.525081  \n",
       "votes_minus           0.088226          0.355458  \n",
       "views_lognorm         0.688811          0.546530  \n",
       "favs_lognorm          1.000000          0.479476  \n",
       "comments_lognorm      0.479476          1.000000  "
      ]
     },
     "execution_count": 5,
     "metadata": {},
     "output_type": "execute_result"
    }
   ],
   "source": [
    "train_df.corr()"
   ]
  },
  {
   "cell_type": "code",
   "execution_count": 6,
   "metadata": {
    "collapsed": false
   },
   "outputs": [
    {
     "data": {
      "text/plain": [
       "[]"
      ]
     },
     "execution_count": 6,
     "metadata": {},
     "output_type": "execute_result"
    }
   ],
   "source": [
    "[abs(i) for i in np.array(train_df.corr()).flatten() if (i>0.9)&(i<1)]"
   ]
  },
  {
   "cell_type": "markdown",
   "metadata": {},
   "source": [
    "<font color='red'>Вопрос 2.</font> В каком году было больше всего публикаций? (Рассматриваем train_df)\n",
    "- 2014\n",
    "- **2015**\n",
    "- 2016\n",
    "- 2017"
   ]
  },
  {
   "cell_type": "code",
   "execution_count": 8,
   "metadata": {
    "collapsed": false
   },
   "outputs": [
    {
     "data": {
      "text/plain": [
       "2015    23452\n",
       "2016    16316\n",
       "2014    16180\n",
       "2012    15972\n",
       "2013    15537\n",
       "2011    15063\n",
       "2010    13091\n",
       "2009    10783\n",
       "2008     7743\n",
       "Name: published, dtype: int64"
      ]
     },
     "execution_count": 8,
     "metadata": {},
     "output_type": "execute_result"
    }
   ],
   "source": [
    "train_df.published.apply(lambda ts: pd.to_datetime(ts).year).value_counts()"
   ]
  },
  {
   "cell_type": "markdown",
   "metadata": {},
   "source": [
    "## Разбиение на train/valid\n",
    "Используем только признаки 'author', 'flow', 'domain' и 'title'"
   ]
  },
  {
   "cell_type": "code",
   "execution_count": 6,
   "metadata": {
    "collapsed": true
   },
   "outputs": [],
   "source": [
    "features = ['author', 'flow', 'domain','title']\n",
    "train_size = int(0.7 * train_df.shape[0])"
   ]
  },
  {
   "cell_type": "code",
   "execution_count": 7,
   "metadata": {
    "collapsed": false
   },
   "outputs": [
    {
     "data": {
      "text/plain": [
       "(134137, 93895)"
      ]
     },
     "execution_count": 7,
     "metadata": {},
     "output_type": "execute_result"
    }
   ],
   "source": [
    "len(train_df),train_size"
   ]
  },
  {
   "cell_type": "code",
   "execution_count": 10,
   "metadata": {
    "collapsed": true
   },
   "outputs": [],
   "source": [
    "X, y = train_df.ix[:, features],  train_df['favs_lognorm'] #отделяем признаки от целевой переменной\n",
    "\n",
    "X_test = test_df.ix[:, features]"
   ]
  },
  {
   "cell_type": "code",
   "execution_count": 11,
   "metadata": {
    "collapsed": false
   },
   "outputs": [],
   "source": [
    "X_train, X_valid = X.iloc[:train_size, :], X.iloc[train_size:,:]\n",
    "\n",
    "y_train, y_valid = y.iloc[:train_size], y.iloc[train_size:]"
   ]
  },
  {
   "cell_type": "markdown",
   "metadata": {},
   "source": [
    "## Применение TfidfVectorizer\n",
    "\n",
    "**TF-IDF** (от англ. TF — term frequency, IDF — inverse document frequency) — статистическая мера, используемая для оценки важности слова в контексте документа, являющегося частью коллекции документов или корпуса. Вес некоторого слова пропорционален количеству употребления этого слова в документе, и обратно пропорционален частоте употребления слова в других документах коллекции. [Подробнее в источнике](https://ru.wikipedia.org/wiki/TF-IDF)\n",
    "\n",
    "TfidfVectorizer преобразует тексты в матрицу TF-IDF признаков.\n",
    "\n",
    "**Основные параметры TfidfVectorizer в sklearn:**\n",
    "- **min_df** - при построении словаря слова, которые встречаются *реже*, чем указанное значение, игнорируются\n",
    "- **max_df** - при построении словаря слова, которые встречаются *чаще*, чем указанное значение, игнорируются\n",
    "- **analyzer** - определяет, строятся ли признаки по словам или по символам (буквам)\n",
    "- **ngram_range** - определяет, формируются ли признаки только из отдельных слов или из нескольких слов (в случае с analyzer='char' задает количество символов). Например, если указать analyzer='word' и ngram_range=(1,3),то признаки будут формироваться из отдельных слов, из пар слов и из троек слов.\n",
    "- **stop_words** - слова, которые игнорируются при построении матрицы\n",
    "\n",
    "Более подробно с параметрами можно ознакомиться в [документации](http://scikit-learn.org/stable/modules/generated/sklearn.feature_extraction.text.TfidfVectorizer.html)"
   ]
  },
  {
   "cell_type": "markdown",
   "metadata": {},
   "source": [
    "**Инициализируйте TfidfVectorizer с параметрами min_df=3, max_df=0.3 и ngram_range=(1, 3).<br />\n",
    "Примените метод fit_transform к X_train['title'] и метод transform к X_valid['title'] и X_test['title']**"
   ]
  },
  {
   "cell_type": "markdown",
   "metadata": {},
   "source": [
    "<font color='red'>Вопрос 3.</font> Какой размер у полученного словаря?\n",
    "- 43789\n",
    "- **50624**\n",
    "- 93895\n",
    "- 74378"
   ]
  },
  {
   "cell_type": "code",
   "execution_count": 12,
   "metadata": {
    "collapsed": true
   },
   "outputs": [],
   "source": [
    "vectorizer_title = TfidfVectorizer(min_df=3, max_df=0.3, ngram_range=(1, 3))\n",
    "\n",
    "X_train_title = vectorizer_title.fit_transform(X_train['title'])\n",
    "X_valid_title = vectorizer_title.transform(X_valid['title'])\n",
    "X_test_title = vectorizer_title.transform(X_test['title'])"
   ]
  },
  {
   "cell_type": "code",
   "execution_count": 13,
   "metadata": {
    "collapsed": false
   },
   "outputs": [
    {
     "data": {
      "text/plain": [
       "(93895, 50624)"
      ]
     },
     "execution_count": 13,
     "metadata": {},
     "output_type": "execute_result"
    }
   ],
   "source": [
    "X_train_title.shape"
   ]
  },
  {
   "cell_type": "code",
   "execution_count": 16,
   "metadata": {
    "collapsed": false
   },
   "outputs": [
    {
     "data": {
      "text/plain": [
       "{'стандартах': 44819,\n",
       " 'пара слов про': 34553,\n",
       " 'новые домены': 31613,\n",
       " 'совершенный': 43867,\n",
       " 'как разработал': 24336,\n",
       " '2012 10 июня': 590,\n",
       " 'asp net web': 1901,\n",
       " '20 раз': 513,\n",
       " 'labs 2014 онлайн': 6475,\n",
       " 'сергеем белоусовым': 42816,\n",
       " 'при помощи': 38251,\n",
       " 'выпуске': 16946,\n",
       " 'что сегодня': 49584,\n",
       " 'для всех каждого': 19170,\n",
       " 'net sp1': 7719,\n",
       " 'новый вирус': 31682,\n",
       " 'тестирование браузеров': 46130,\n",
       " 'сред': 44681,\n",
       " '2012 январь': 619,\n",
       " 'быстрее чем': 14734,\n",
       " 'собственной': 43831,\n",
       " 'данных на основе': 18071,\n",
       " 'js html5': 6291,\n",
       " 'xbox one': 12275,\n",
       " 'запущен первый': 21619,\n",
       " 'украли': 47138,\n",
       " 'проекты статьи интервью': 39391,\n",
       " 'для некоторых': 19366,\n",
       " 'mobile 12': 7319,\n",
       " 'очерк': 34410,\n",
       " 'базовый': 13606,\n",
       " 'symphony': 10691,\n",
       " 'ли делать': 26791,\n",
       " 'из пакета': 22412,\n",
       " 'objective часть ая': 8003,\n",
       " 'регистрация открыта': 41109,\n",
       " 'vbs': 11481,\n",
       " 'бот для': 14445,\n",
       " 'исследования рынка': 23699,\n",
       " 'перенесли': 34976,\n",
       " 'генерального директора': 17331,\n",
       " 'назвал': 30276,\n",
       " 'новый продукт': 31733,\n",
       " 'востоке': 16267,\n",
       " 'на icann': 29183,\n",
       " 'terminal': 10829,\n",
       " 'разницу': 40423,\n",
       " 'ipad ipod touch': 5940,\n",
       " 'совместимость': 43916,\n",
       " 'каждом': 23937,\n",
       " 'новый робот': 31742,\n",
       " 'komodo': 6447,\n",
       " 'операции': 33148,\n",
       " 'от сервера': 33805,\n",
       " 'подключайтесь онлайн трансляции': 36390,\n",
       " 'целью': 48810,\n",
       " 'хабровчане': 48456,\n",
       " 'на скорость': 29992,\n",
       " 'комментариев': 25343,\n",
       " 'dlna': 3560,\n",
       " 'аудиосистема': 13486,\n",
       " 'tag manager': 10736,\n",
       " 'материалов по': 27553,\n",
       " 'уведомлений на': 46882,\n",
       " 'рисовалка': 41507,\n",
       " 'звонок': 21836,\n",
       " 'hover': 5352,\n",
       " 'доступен google play': 20258,\n",
       " 'коллективных': 25274,\n",
       " 'хакеров или': 48483,\n",
       " 'поисковая система': 36657,\n",
       " 'объектной': 32707,\n",
       " 'возможности для разработки': 16118,\n",
       " 'acquisition': 1254,\n",
       " 'без логина пароля': 13769,\n",
       " 'акселераторы': 12886,\n",
       " 'верстаем': 15348,\n",
       " 'терминалах': 46069,\n",
       " 'за 199': 20864,\n",
       " 'raphaël': 9245,\n",
       " 'google ai challenge': 4781,\n",
       " 'то рядом': 46361,\n",
       " 'помощью tdd': 37174,\n",
       " 'dr': 3630,\n",
       " 'для всех пользователей': 19172,\n",
       " 'появится россии': 37778,\n",
       " 'иб по американски': 22053,\n",
       " 'appcode': 1724,\n",
       " 'ящике': 50620,\n",
       " 'для teiid часть': 19036,\n",
       " 'atom для': 1983,\n",
       " 'однодневки': 32908,\n",
       " 'спрайтов': 44618,\n",
       " 'один раз': 32849,\n",
       " 'иск против': 23496,\n",
       " 'долги': 19981,\n",
       " 'на mwc 2010': 29250,\n",
       " 'founders bootcamp': 4426,\n",
       " 'яндекс закрывает': 50530,\n",
       " 'big': 2212,\n",
       " 'samsung forum': 9699,\n",
       " 'официальный релиз': 34324,\n",
       " 'библия': 14072,\n",
       " 'всех каждого': 16478,\n",
       " 'вшэ': 16673,\n",
       " 'даже не': 17964,\n",
       " 'первого раунда russian': 34752,\n",
       " 'ты думаешь': 46809,\n",
       " '3d печати': 944,\n",
       " 'суд на google': 45441,\n",
       " 'using': 11428,\n",
       " 'раритетная': 40725,\n",
       " 'стандартном': 44826,\n",
       " 'azure media': 2043,\n",
       " 'больших объемов данных': 14385,\n",
       " 'нестандартные': 31254,\n",
       " 'декоратор': 18306,\n",
       " 'мал да': 27307,\n",
       " 'microsoft security': 7182,\n",
       " 'n950': 7623,\n",
       " 'ubisoft': 11224,\n",
       " 'extensions': 4090,\n",
       " 'все по полочкам': 16401,\n",
       " 'рекорд по': 41290,\n",
       " 'публикует': 39906,\n",
       " 'аврора': 12570,\n",
       " 'eight': 3815,\n",
       " 'интерфейсы': 23408,\n",
       " 'software configuration': 10206,\n",
       " 'прямая': 39848,\n",
       " 'на примере сайта': 29869,\n",
       " 'ролик деда мороза': 41634,\n",
       " 'кима доткома': 24883,\n",
       " 'ноутбук за': 31875,\n",
       " 'проекта под': 39324,\n",
       " 'инструменты разработчика': 23135,\n",
       " 'презентации apple': 38124,\n",
       " 'на ubuntu': 29368,\n",
       " 'более миллиона': 14333,\n",
       " 'общественным': 32665,\n",
       " 'использованные': 23631,\n",
       " 'linux или': 6686,\n",
       " 'встраиваемые': 16516,\n",
       " 'префиксы': 38222,\n",
       " 'за пару минут': 21011,\n",
       " 'мвд': 27636,\n",
       " 'series 40': 9901,\n",
       " 'за две': 20941,\n",
       " 'да пребудет вами': 17941,\n",
       " 'правила': 37825,\n",
       " 'robonaut': 9470,\n",
       " 'нейтралитета': 31088,\n",
       " 'events': 4001,\n",
       " 'день программиста': 18423,\n",
       " 'технического': 46238,\n",
       " 'масштабируемый': 27513,\n",
       " 'это возможно': 50272,\n",
       " 'возможность': 16124,\n",
       " 'правила игры': 37827,\n",
       " 'пиратстве': 35219,\n",
       " 'которые могут': 26121,\n",
       " 'внутренние': 15994,\n",
       " 'star wars': 10444,\n",
       " 'менеджер пакетов для': 27754,\n",
       " 'векторизация': 15199,\n",
       " 'apache trac для': 1657,\n",
       " 'player для': 8765,\n",
       " 'hero на': 5268,\n",
       " 'какой должна': 24510,\n",
       " 'performance real': 8521,\n",
       " 'сайтов помощью': 42016,\n",
       " 'программный продукт': 39141,\n",
       " 'нескольких файлов': 31218,\n",
       " 'приложений android market': 38492,\n",
       " 'обложки': 32362,\n",
       " 'секретов': 42575,\n",
       " 'сайты рунета': 42028,\n",
       " 'sharepoint 2013': 9975,\n",
       " 'логику': 27003,\n",
       " 'поисковый сервис': 36685,\n",
       " 'массовый': 27481,\n",
       " 'улучшений': 47158,\n",
       " 'интересные возможности': 23242,\n",
       " 'без участия': 13805,\n",
       " 'как игровая': 24091,\n",
       " 'обновленная': 32461,\n",
       " 'это будет': 50267,\n",
       " 'создание нового': 44061,\n",
       " 'пройдет 14': 39465,\n",
       " 'windows программ': 12124,\n",
       " 'фон': 48129,\n",
       " 'расчетов': 40904,\n",
       " 'как люди': 24121,\n",
       " 'открытости': 34062,\n",
       " 'курсов на': 26541,\n",
       " 'wix': 12155,\n",
       " '27': 795,\n",
       " 'ядерный процессор': 50434,\n",
       " 'cool': 3000,\n",
       " 'security essentials': 9857,\n",
       " 'ом через': 33042,\n",
       " 'многих': 28244,\n",
       " 'photo': 8596,\n",
       " 'пример реализации': 38631,\n",
       " 'ensemble': 3905,\n",
       " 'shader': 9964,\n",
       " 'компенсация': 25453,\n",
       " 'помощью css': 37140,\n",
       " 'fm api': 4354,\n",
       " 'mac os leopard': 6860,\n",
       " 'соответствует': 44257,\n",
       " 'gfranq com': 4693,\n",
       " 'как разрабатывать': 24335,\n",
       " 'достиг': 20208,\n",
       " 'российские': 41678,\n",
       " 'агентство': 12742,\n",
       " 'доктор веб обнаружил': 19947,\n",
       " 'охлаждением': 34345,\n",
       " 'wordpress для': 12175,\n",
       " 'incredible': 5693,\n",
       " 'обзор самых популярных': 32233,\n",
       " 'этика': 50257,\n",
       " 'composite': 2919,\n",
       " 'для создания мобильных': 19614,\n",
       " 'приложение под android': 38482,\n",
       " 'если': 20564,\n",
       " 'вред молчания': 16315,\n",
       " 'ежедневных': 20541,\n",
       " 'создание языка': 44101,\n",
       " 'телефонной': 45915,\n",
       " 'председателя': 38053,\n",
       " 'методика': 27883,\n",
       " 'thl': 10917,\n",
       " 'ecm решений': 3771,\n",
       " 'tables': 10729,\n",
       " 'открытым кодом': 34078,\n",
       " 'объединяя': 32692,\n",
       " 'подписки на': 36431,\n",
       " 'много не бывает': 28250,\n",
       " 'лучшее приложение': 27106,\n",
       " 'intent': 5826,\n",
       " 'по онлайн': 35864,\n",
       " 'трансформатор': 46592,\n",
       " 'или новая': 22778,\n",
       " 'квадрокоптер своими руками': 24786,\n",
       " 'два часа': 18148,\n",
       " '121': 292,\n",
       " 'стажировка google': 44784,\n",
       " 'creative commons': 3068,\n",
       " 'cup 2014': 3156,\n",
       " 'веб разработчика под': 15080,\n",
       " 'удалены': 46978,\n",
       " 'windows ce на': 12001,\n",
       " 'workflow foundation': 12183,\n",
       " 'bug': 2407,\n",
       " 'основы программирования': 33539,\n",
       " 'декодирование': 18302,\n",
       " 'mac os 10': 6859,\n",
       " 'userjs': 11421,\n",
       " 'подсветкой': 36485,\n",
       " 'глазами часть': 17525,\n",
       " 'habrareader': 5159,\n",
       " 'новый шрифт': 31767,\n",
       " 'delphi часть': 3340,\n",
       " 'новости интересные проекты': 31572,\n",
       " '20 26': 499,\n",
       " 'нахождение': 30618,\n",
       " 'siemens': 10007,\n",
       " 'во всём': 16034,\n",
       " 'сервис от': 42761,\n",
       " 'microsoft surface pro': 7191,\n",
       " 'proliant': 8961,\n",
       " 'пользователей apple': 36985,\n",
       " 'oppo': 8228,\n",
       " 'гладить': 17513,\n",
       " 'снежинка': 43686,\n",
       " 'galaxy camera': 4570,\n",
       " 'iphone или': 5972,\n",
       " 'component': 2916,\n",
       " 'это исправить': 50285,\n",
       " 'берется за': 13895,\n",
       " 'in app purchases': 5675,\n",
       " 'без офиса': 13774,\n",
       " 'компьютера часть': 25510,\n",
       " 'учетные записи': 47744,\n",
       " 'почему он': 37678,\n",
       " 'субботник поиск': 45415,\n",
       " 'отдельно взятой': 33905,\n",
       " 'утопия': 47666,\n",
       " 'inkscape': 5736,\n",
       " 'один сервис': 32851,\n",
       " 'как авторизуются люди': 23984,\n",
       " 'работодатель': 40137,\n",
       " 'torrent stream': 11054,\n",
       " 'возможна': 16099,\n",
       " 'при помощи nginx': 38260,\n",
       " 'align': 1419,\n",
       " 'распаковка': 40756,\n",
       " 'back to the': 2076,\n",
       " 'не имеют': 30820,\n",
       " '10 самых популярных': 150,\n",
       " 'kiev ua': 6403,\n",
       " 'objectscript api': 8007,\n",
       " 'видеообзор': 15611,\n",
       " 'windows consumer preview': 12003,\n",
       " 'не очередной': 30861,\n",
       " 'кодированием': 25213,\n",
       " 'партии': 34630,\n",
       " 'разгадка': 40334,\n",
       " 'четвёртого': 49341,\n",
       " 'ответы': 33867,\n",
       " 'логической': 27017,\n",
       " 'источник': 23767,\n",
       " 'box': 2355,\n",
       " 'часть обзор': 49045,\n",
       " 'социальные': 44401,\n",
       " 'brick': 2375,\n",
       " 'для php разработчиков': 18997,\n",
       " 'как искал': 24104,\n",
       " 'как все начиналось': 24016,\n",
       " 'comstar': 2934,\n",
       " 'девяностых': 18258,\n",
       " 'символа': 43024,\n",
       " 'scala для': 9778,\n",
       " 'акция для': 12940,\n",
       " 'heroes of': 5270,\n",
       " 'twitter для': 11189,\n",
       " 'для java программистов': 18930,\n",
       " 'xtradb': 12364,\n",
       " 'конфигурирование': 25882,\n",
       " 'мультфильмы': 28841,\n",
       " 'на собеседовании': 30004,\n",
       " 'шифрование для': 49760,\n",
       " 'для хабровчан': 19693,\n",
       " 'методы оценки': 27903,\n",
       " 'xe5': 12289,\n",
       " 'sim картами': 10033,\n",
       " 'юрия': 50417,\n",
       " 'анимации на': 13161,\n",
       " 'слепым': 43447,\n",
       " 'innovation': 5739,\n",
       " '22 сентября': 716,\n",
       " 'человеческая': 49149,\n",
       " 'использования баз': 23624,\n",
       " 'проекте на': 39337,\n",
       " 'хабре': 48454,\n",
       " 'sql кода': 10378,\n",
       " 'map reduce': 6950,\n",
       " 'тихого': 46346,\n",
       " 'мощностях': 28754,\n",
       " 'plug': 8775,\n",
       " 'demonoid': 3344,\n",
       " 'существования': 45511,\n",
       " 'china part': 2624,\n",
       " 'туда': 46773,\n",
       " 'хотите': 48680,\n",
       " 'правительственный': 37858,\n",
       " 'сегодня': 42548,\n",
       " 'courier': 3033,\n",
       " 'webos': 11870,\n",
       " 'вчерашний': 16672,\n",
       " 'интеграция asp': 23147,\n",
       " 'новости проекта': 31577,\n",
       " 'скрытого': 43379,\n",
       " 'подняла': 36408,\n",
       " 'листа': 26887,\n",
       " 'авторского права': 12717,\n",
       " 'боятся': 14467,\n",
       " 'для видео': 19155,\n",
       " 'смартфон htc': 43579,\n",
       " 'знаю ооп': 21994,\n",
       " 'south': 10278,\n",
       " 'xss на': 12362,\n",
       " 'из youtube': 22331,\n",
       " 'хранимые процедуры': 48739,\n",
       " 'хостинг картинок': 48645,\n",
       " 'process': 8923,\n",
       " 'наступил': 30557,\n",
       " 'top 10': 11042,\n",
       " '29 мая': 827,\n",
       " 'php': 8605,\n",
       " 'windows azure': 11982,\n",
       " 'построенный': 37533,\n",
       " 'или вторая': 22687,\n",
       " 'вещи которые': 15434,\n",
       " 'скрыть': 43384,\n",
       " 'большого взрыва': 14394,\n",
       " 'jaunty': 6130,\n",
       " 'журналистика': 20826,\n",
       " 'культ': 26490,\n",
       " 'пусть никто': 39937,\n",
       " 'показал': 36712,\n",
       " 'металлом': 27868,\n",
       " 'мысли вслух': 28931,\n",
       " 'пиратские': 35202,\n",
       " 'лошадь': 27076,\n",
       " 'разработчиков под windows': 40641,\n",
       " 'именованные': 22911,\n",
       " 'движок mediawiki': 18192,\n",
       " 'google voice': 4906,\n",
       " 'живых': 20760,\n",
       " 'firefox 29': 4251,\n",
       " 'сетевым': 42911,\n",
       " 'пробками': 38890,\n",
       " 'nvidia ion': 7981,\n",
       " 'надо писать деловые': 30260,\n",
       " 'microsoft sql': 7188,\n",
       " 'же всё': 20676,\n",
       " 'acer': 1236,\n",
       " 'открыла сервис': 34013,\n",
       " 'тест': 46099,\n",
       " 'публичных выступлений': 39918,\n",
       " 'smashing': 10155,\n",
       " 'какой должна быть': 24511,\n",
       " 'simple storage service': 10044,\n",
       " 'на highload': 29166,\n",
       " 'разметке': 40401,\n",
       " 'удаленном сервере': 46969,\n",
       " 'hierarchy': 5296,\n",
       " 'часть третья': 49067,\n",
       " 'взлом': 15481,\n",
       " 'переходят на': 35039,\n",
       " 'на тв': 30044,\n",
       " 'bing maps': 2230,\n",
       " 'реальной работе': 41024,\n",
       " 'продержался': 39237,\n",
       " 'настройкой': 30550,\n",
       " 'oppo finder': 8230,\n",
       " 'создание документации': 44039,\n",
       " 'конкурент raspberry': 25602,\n",
       " 'раз два': 40250,\n",
       " 'или эволюция': 22872,\n",
       " 'opencart': 8138,\n",
       " 'крайне': 26188,\n",
       " 'тестирование java': 46124,\n",
       " 'миниатюр': 28063,\n",
       " 'nokia lumia 820': 7895,\n",
       " 'множественное наследование': 28293,\n",
       " 'рекомендуем выпуск': 41286,\n",
       " 'xperia z2': 12352,\n",
       " 'регионов': 41084,\n",
       " 'continuous integration': 2986,\n",
       " 'высоким': 17019,\n",
       " 'креативность': 26257,\n",
       " 'лет назад': 26726,\n",
       " 'fi московском метро': 4201,\n",
       " 'принтер своими': 38710,\n",
       " 'признаков': 38419,\n",
       " 'начались продажи': 30647,\n",
       " 'деле': 18352,\n",
       " 'отказа': 33947,\n",
       " 'обновил интерфейс': 32395,\n",
       " 'грядут': 17909,\n",
       " 'трекинг': 46658,\n",
       " 'моя первая': 28765,\n",
       " 'систем для': 43086,\n",
       " 'пакета для': 34474,\n",
       " 'создание продвижение': 44080,\n",
       " 'июль сентябрь': 23881,\n",
       " 'компания': 25435,\n",
       " 'станут': 44854,\n",
       " 'duo': 3720,\n",
       " 'терминов': 46077,\n",
       " 'независимые': 31048,\n",
       " 'qiwi кошелек для': 9105,\n",
       " 'сайт или': 41955,\n",
       " 'links': 6646,\n",
       " 'другу': 20370,\n",
       " 'unix не только': 11349,\n",
       " 'embedded linux': 3862,\n",
       " 'azure веб сайты': 2061,\n",
       " 'из таблицы': 22457,\n",
       " 'контроля доступа': 25802,\n",
       " 'мере': 27802,\n",
       " 'oled дисплеем': 8074,\n",
       " 'горячие клавиши': 17721,\n",
       " 'sms через': 10173,\n",
       " 'skype': 10091,\n",
       " 'канаде': 24576,\n",
       " 'мегабайт': 27653,\n",
       " 'критических': 26324,\n",
       " 'вторая часть': 16622,\n",
       " 'york': 12417,\n",
       " 'virtualdub': 11567,\n",
       " 'лезь': 26673,\n",
       " 'encryption': 3882,\n",
       " 'раскрутка': 40745,\n",
       " 'an': 1483,\n",
       " 'тексте': 45817,\n",
       " 'battery': 2137,\n",
       " 'подробный обзор': 36464,\n",
       " 'testng': 10843,\n",
       " 'дальше': 18013,\n",
       " 'придумали как': 38383,\n",
       " 'sleep': 10121,\n",
       " 'elastix': 3829,\n",
       " 'точно': 46549,\n",
       " 'комнате': 25395,\n",
       " 'химия': 48548,\n",
       " 'любой ценой': 27182,\n",
       " 'net полезные': 7735,\n",
       " 'зашифрованных': 21734,\n",
       " 'разделяй': 40379,\n",
       " 'новая opera': 31392,\n",
       " 'уже продаже': 47069,\n",
       " 'gcd': 4625,\n",
       " 'контактам': 25716,\n",
       " 'по под': 35884,\n",
       " 'hat': 5219,\n",
       " 'pivotal tracker': 8720,\n",
       " 'сервисов для веб': 42799,\n",
       " 'spa': 10286,\n",
       " 'про то как': 38878,\n",
       " 'ptp': 9007,\n",
       " 'плагинах': 35374,\n",
       " 'шестая': 49743,\n",
       " 'minix': 7281,\n",
       " 'игрушечную': 22167,\n",
       " 'визуализация данных': 15713,\n",
       " 'воспроизведение звука': 16244,\n",
       " 'аккордов html': 12869,\n",
       " 'новости windows azure': 31563,\n",
       " 'лояльность': 27078,\n",
       " 'обложки для': 32363,\n",
       " 'без комментариев': 13763,\n",
       " 'открыть микросхему': 34087,\n",
       " 'айтишника': 12837,\n",
       " 'ddos': 3261,\n",
       " 'скажи': 43217,\n",
       " 'onlive': 8112,\n",
       " 'новогодним': 31501,\n",
       " 'ресторан': 41394,\n",
       " 'dribbble meetup': 3653,\n",
       " 'бенчмарк': 13888,\n",
       " 'делаете': 18329,\n",
       " 'упрощаем себе': 47420,\n",
       " 'опыт создания': 33350,\n",
       " 'выбрать систему': 16781,\n",
       " 'элементов базы данных': 50161,\n",
       " 'атака': 13436,\n",
       " 'обзор программ': 32225,\n",
       " 'для пинг': 19430,\n",
       " 'гражданских': 17806,\n",
       " 'влияние': 15910,\n",
       " '13': 303,\n",
       " 'исландии': 23534,\n",
       " 'большие потоки трафика': 14370,\n",
       " 'на jabber': 29204,\n",
       " 'откажется': 33942,\n",
       " 'на ночь': 29753,\n",
       " 'parking ru': 8421,\n",
       " 'alex': 1407,\n",
       " 'магазин на': 27222,\n",
       " 'computex 2013': 2931,\n",
       " 'кастомизация': 24723,\n",
       " 'fancybox': 4151,\n",
       " 'ftp': 4519,\n",
       " 'истина': 23709,\n",
       " '157': 383,\n",
       " 'основателя gentoo': 33491,\n",
       " 'робот яндекса': 41562,\n",
       " '30 дней': 856,\n",
       " 'swift': 10662,\n",
       " 'по коду': 35822,\n",
       " 'днепропетровске': 19749,\n",
       " 'неубиваемая': 31288,\n",
       " 'конверсию сайта': 25573,\n",
       " 'мучений': 28848,\n",
       " 'мыши': 28939,\n",
       " 'санкт петербург': 42152,\n",
       " 'кое что данных': 25236,\n",
       " 'большой ку': 14407,\n",
       " 'остаться живых': 33592,\n",
       " 'линуксового': 26872,\n",
       " 'обфускация': 32626,\n",
       " 'подал суд': 36238,\n",
       " 'way to china': 11751,\n",
       " 'дурова': 20411,\n",
       " 'winrt приложений': 12138,\n",
       " 'vga': 11520,\n",
       " 'умнее тот': 47223,\n",
       " 'бюджетные': 14807,\n",
       " 'алексей федосеев': 12974,\n",
       " 'конференции teched': 25833,\n",
       " 'принятия': 38749,\n",
       " 'раскина': 40729,\n",
       " 'контактные': 25721,\n",
       " 'закрывается': 21358,\n",
       " 'интерактивный': 23189,\n",
       " 'пошли': 37758,\n",
       " 'использующий': 23668,\n",
       " 'автоматизация работы': 12601,\n",
       " 'подборка инструментов': 36278,\n",
       " 'нашего': 30728,\n",
       " 'вывести из': 16784,\n",
       " 'метрика подкаст': 27911,\n",
       " 'комментариев автора': 25344,\n",
       " 'безопасным': 13855,\n",
       " '000 пользователей часть': 16,\n",
       " 'data url': 3217,\n",
       " 'или как делал': 22726,\n",
       " 'краткое': 26228,\n",
       " 'compatible': 2906,\n",
       " 'долой барьер языковой': 20029,\n",
       " 'vogue tec news': 11638,\n",
       " 'lr': 6793,\n",
       " 'drive для': 3655,\n",
       " 'the bat': 10873,\n",
       " 'туннеля': 46781,\n",
       " 'платформы виртуализации': 35589,\n",
       " 'student': 10562,\n",
       " 'может пригодиться': 28553,\n",
       " 'готовое': 17781,\n",
       " 'приоритет': 38764,\n",
       " 'facebook sdk': 4117,\n",
       " 'ctp2': 3132,\n",
       " 'быстрая сборка': 14729,\n",
       " 'демонстрация': 18388,\n",
       " 'пресс конференции': 38204,\n",
       " 'которые вы не': 26114,\n",
       " 'приходу процессоров': 38808,\n",
       " 'для серверов': 19580,\n",
       " 'notion ink adam': 7949,\n",
       " 'холодного': 48597,\n",
       " 'вовлечение': 16045,\n",
       " 'подхода построению': 36529,\n",
       " 'бизнес как': 14089,\n",
       " 'typeof': 11203,\n",
       " 'chrome stable': 2646,\n",
       " 'об nlp часть': 32003,\n",
       " 'фото видео презентации': 48224,\n",
       " 'используют пользователи': 23663,\n",
       " 'работ по': 40025,\n",
       " 'jabber ru': 6112,\n",
       " 'режиме': 41172,\n",
       " 'инженером': 23037,\n",
       " 'только что': 46418,\n",
       " 'трёхмерные': 46765,\n",
       " 'клиентом': 25026,\n",
       " 'банковского': 13673,\n",
       " 'розыгрыш': 41623,\n",
       " 'работает из за': 40073,\n",
       " 'графиков для': 17852,\n",
       " 'пионер': 35191,\n",
       " 'mad': 6886,\n",
       " 'студентов на': 45366,\n",
       " 'дизайнерских': 18677,\n",
       " 'google tasks': 4896,\n",
       " 'примеры работы': 38672,\n",
       " 'робота frank': 41564,\n",
       " 'играм': 22095,\n",
       " 'ms project': 7489,\n",
       " 'windows для': 12088,\n",
       " 'асинхронные': 13386,\n",
       " 'кндр': 25079,\n",
       " 'samsung galaxy ii': 9703,\n",
       " 'gnu linux': 4750,\n",
       " 'processing': 8924,\n",
       " 'mx': 7578,\n",
       " 'sql 2008': 10359,\n",
       " 'полезные вещи часть': 36808,\n",
       " 'реалии': 41009,\n",
       " 'сканирует': 43250,\n",
       " 'gox': 5048,\n",
       " 'американский суд': 13035,\n",
       " 'технологическое ток': 46277,\n",
       " '10 вещей которые': 102,\n",
       " 'разработчиков android': 40617,\n",
       " 'новые спутниковые снимки': 31641,\n",
       " 'для visual': 19046,\n",
       " 'hercules': 5263,\n",
       " 'приручаем zog часть': 38774,\n",
       " 'адресу': 12813,\n",
       " 'снизу': 43703,\n",
       " 'двум': 18212,\n",
       " 'бесплатные приглашения': 13953,\n",
       " 'из результатов': 22435,\n",
       " 'постоянно': 37508,\n",
       " 'похожих': 37627,\n",
       " 'обязать': 32782,\n",
       " 'спецслужбы': 44505,\n",
       " 'ресурса': 41397,\n",
       " 'платить налоги': 35517,\n",
       " 'на графических': 29544,\n",
       " 'lvee': 6830,\n",
       " 'на разных': 29908,\n",
       " 'игровом': 22138,\n",
       " 'can': 2485,\n",
       " 'web ui': 11802,\n",
       " 'запись вебинара': 21496,\n",
       " 'первый номер': 34814,\n",
       " 'социальной сетью': 44396,\n",
       " 'поздравление от': 36578,\n",
       " 'release': 9361,\n",
       " 'организовать': 33395,\n",
       " 'принтером': 38717,\n",
       " 'обзор jabber клиентов': 32133,\n",
       " 'помощью wix': 37181,\n",
       " 'teched russia 2011': 10797,\n",
       " '70 000': 1113,\n",
       " 'windows beta': 11996,\n",
       " 'ожидать': 32954,\n",
       " 'сходил': 45545,\n",
       " 'для веб дизайнеров': 19140,\n",
       " 'синхронизируем': 43074,\n",
       " 'защита от': 21741,\n",
       " 'давайте': 17945,\n",
       " 'net или': 7731,\n",
       " 'hooks': 5339,\n",
       " 'разработка windows приложений': 40478,\n",
       " 'uno': 11362,\n",
       " 'по гост': 35774,\n",
       " 'dc': 3254,\n",
       " 'водяным охлаждением': 16069,\n",
       " 'история развития': 23759,\n",
       " 'конфигурационными файлами': 25876,\n",
       " 'epam systems': 3926,\n",
       " 'помощи генетического': 37114,\n",
       " 'речи часть': 41432,\n",
       " 'ideapad u300s': 5586,\n",
       " 'иллюстрация история': 22878,\n",
       " 'ниша': 31369,\n",
       " 'ужасно интересных докладчиков': 47049,\n",
       " 'readability': 9298,\n",
       " 'api интеграция': 1673,\n",
       " 'зверь': 21825,\n",
       " 'вконтакте ios': 15867,\n",
       " 'для ноутбуков': 19382,\n",
       " 'alphaimageloader': 1432,\n",
       " 'самые': 42098,\n",
       " 'odessa innovation week': 8029,\n",
       " '2013 москве': 643,\n",
       " 'тачпад': 45749,\n",
       " 'весенний': 15386,\n",
       " 'лицензий на': 26921,\n",
       " 'keeper': 6370,\n",
       " 'для хакеров': 19695,\n",
       " 'концепты концепции идеи': 25906,\n",
       " 'во что играют': 16044,\n",
       " 'домашней автоматизации': 20054,\n",
       " 'глазах': 17526,\n",
       " 'физика невозможного': 47987,\n",
       " 'бэкенд': 14797,\n",
       " 'файлов через': 47867,\n",
       " 'зрения хостера': 22042,\n",
       " 'верификацию': 15244,\n",
       " '122': 294,\n",
       " 'основе технологии': 33507,\n",
       " 'объема': 32719,\n",
       " 'дизайн landing page': 18630,\n",
       " 'запускает сервис': 21582,\n",
       " 'основатель': 33489,\n",
       " 'светодиодный': 42272,\n",
       " 'sun': 10626,\n",
       " 'обзор новой': 32204,\n",
       " 'веб стандартов': 15110,\n",
       " 'сцены часть': 45557,\n",
       " 'end': 3883,\n",
       " 'пересаживалась': 34996,\n",
       " 'сотрудника': 44335,\n",
       " 'холст': 48601,\n",
       " 'подводная': 36302,\n",
       " 'трассировки': 46602,\n",
       " 'google анонсирует': 4917,\n",
       " 'выявляем': 17224,\n",
       " 'на контент': 29649,\n",
       " 'апрель 2013': 13290,\n",
       " 'railsclub moscow 2013': 9233,\n",
       " 'девелопера': 18249,\n",
       " 'как он есть': 24226,\n",
       " 'как убедить': 24414,\n",
       " 'opera 10 70': 8180,\n",
       " 'аутентификация на': 13514,\n",
       " 'вкратце': 15883,\n",
       " 'adobe flash player': 1320,\n",
       " 'qt на': 9135,\n",
       " 'головного мозга': 17628,\n",
       " 'исключениями': 23508,\n",
       " 'b1': 2068,\n",
       " 'защищаем': 21776,\n",
       " 'коды на': 25233,\n",
       " 'видеообзор asus': 15613,\n",
       " 'спортивных': 44546,\n",
       " 'apple samsung': 1751,\n",
       " 'на': 28969,\n",
       " 'на world': 29401,\n",
       " 'вопрос ответ': 16199,\n",
       " 'может дать': 28543,\n",
       " 'началось': 30659,\n",
       " 'classmate': 2723,\n",
       " '2014 по': 667,\n",
       " 'дружит': 20381,\n",
       " 'globalsdb': 4730,\n",
       " 'википедия часть': 15737,\n",
       " 'августа': 12557,\n",
       " 'приложениях помощью': 38606,\n",
       " 'юрий вировец': 50412,\n",
       " 'удивительных фактов': 47011,\n",
       " 'хабратопик': 48440,\n",
       " 'дома': 20045,\n",
       " 'another': 1629,\n",
       " 'cucumber': 3147,\n",
       " 'призов': 38432,\n",
       " 'отказаться от': 33955,\n",
       " 'приложение для ios': 38463,\n",
       " 'pilot': 8695,\n",
       " 'системы часть': 43200,\n",
       " 'vertica': 11515,\n",
       " 'книги pocketbook': 25099,\n",
       " 'на youtube появился': 29420,\n",
       " 'generics': 4667,\n",
       " 'google apps for': 4792,\n",
       " 'прибыл': 38289,\n",
       " 'разработки для': 40553,\n",
       " 'looking': 6779,\n",
       " 'low cost': 6789,\n",
       " 'машин hyper': 27589,\n",
       " 'на карте мира': 29622,\n",
       " 'аккордеон': 12867,\n",
       " 'запросам': 21542,\n",
       " 'эрик': 50228,\n",
       " 'дней до': 19736,\n",
       " 'динамическую': 18714,\n",
       " 'женские': 20708,\n",
       " 'three js webgl': 10926,\n",
       " 'лазерной': 26602,\n",
       " 'farm отобрал': 4159,\n",
       " 'зимних': 21904,\n",
       " 'itunes store': 6095,\n",
       " 'продвинутый': 39233,\n",
       " 'колебания': 25243,\n",
       " 'алкотестер': 12979,\n",
       " 'приложение за': 38467,\n",
       " 'ограбление': 32795,\n",
       " 'this is': 10914,\n",
       " 'не считает': 30910,\n",
       " 'dashboard': 3205,\n",
       " 'без рук': 13795,\n",
       " 'верстки': 15359,\n",
       " 'let': 6567,\n",
       " 'google web fonts': 4911,\n",
       " 'сервис для': 42751,\n",
       " 'poi': 8801,\n",
       " 'всеми': 16447,\n",
       " 'digia': 3469,\n",
       " 'новые города на': 31609,\n",
       " 'специалисты': 44486,\n",
       " 'visual studio 2010': 11593,\n",
       " 'barnes noble nook': 2116,\n",
       " 'товар немного статистики': 46372,\n",
       " 'платежей': 35490,\n",
       " 'семантической': 42607,\n",
       " 'tips and tricks': 10963,\n",
       " 'blue': 2301,\n",
       " 'института': 23104,\n",
       " 'подвержены': 36298,\n",
       " 'избранное': 22490,\n",
       " 'готовятся': 17792,\n",
       " 'собственный фреймворк на': 43846,\n",
       " 'авторизация пользователей': 12701,\n",
       " 'sed': 9863,\n",
       " 'продвигать': 39214,\n",
       " 'cp': 3045,\n",
       " 'profile': 8932,\n",
       " 'pets': 8541,\n",
       " 'клиентская': 25027,\n",
       " 'hypervisor': 5486,\n",
       " 'рекурсивный': 41303,\n",
       " 'почему нужно': 37677,\n",
       " 'асинхронных': 13392,\n",
       " 'numpy': 7975,\n",
       " 'orm для': 8289,\n",
       " 'встрече apple developers': 16561,\n",
       " 'чем ее': 49173,\n",
       " 'storm framework': 10535,\n",
       " 'новый взгляд': 31678,\n",
       " 'демонстрации': 18385,\n",
       " 'fowler': 4429,\n",
       " 'интерфейсу': 23407,\n",
       " 'можно использовать': 28568,\n",
       " 'uikit': 11286,\n",
       " 'web приложения': 11815,\n",
       " 'интерфейсы для': 23409,\n",
       " 'ubuntu 10 karmic': 11233,\n",
       " 'цифрового': 48902,\n",
       " 'разработке тестированию': 40542,\n",
       " '100 долларов': 176,\n",
       " 'habracut': 5155,\n",
       " 'семье': 42637,\n",
       " 'смысле': 43675,\n",
       " 'проводной': 38986,\n",
       " 'повседневном': 36091,\n",
       " 'method': 7129,\n",
       " 'подробное': 36452,\n",
       " 'studio 2010 sp1': 10570,\n",
       " 'аккумулятора на': 12876,\n",
       " 'воспоминания': 16239,\n",
       " 'универсальной электронной карты': 47274,\n",
       " 'mbr': 7038,\n",
       " 'ресурсах': 41401,\n",
       " 'новая версия редактора': 31405,\n",
       " 'через неделю': 49277,\n",
       " 'антипиратскому закону': 13253,\n",
       " 'scratch': 9806,\n",
       " 'страх': 45270,\n",
       " '51': 1047,\n",
       " 'become an xcoder': 2165,\n",
       " 'для обмена': 19388,\n",
       " 'техник': 46219,\n",
       " 'перепись': 34990,\n",
       " 'точки': 46536,\n",
       " 'декомпилятор': 18304,\n",
       " 'уязвимость internet': 47817,\n",
       " 'мода': 28433,\n",
       " 'видимости': 15692,\n",
       " 'на базе ос': 29453,\n",
       " 'на энтузиазме': 30118,\n",
       " 'google хочет': 5028,\n",
       " 'гонка за': 17674,\n",
       " 'за полцены': 21020,\n",
       " 'ответить на': 33858,\n",
       " 'передал': 34911,\n",
       " 'клиентами для': 25018,\n",
       " 'на пользователя': 29834,\n",
       " 'анх': 13259,\n",
       " 'разработчика prism': 40589,\n",
       " 'веб типографика сегодня': 15126,\n",
       " 'микроэлектроники': 28003,\n",
       " 'состоялся': 44304,\n",
       " 'или туда обратно': 22853,\n",
       " 'объявлены': 32739,\n",
       " 'замок': 21431,\n",
       " 'новая платформа для': 31424,\n",
       " 'рекламой': 41262,\n",
       " 'вернулся': 15256,\n",
       " 'способы передачи': 44600,\n",
       " 'ли вы на': 26788,\n",
       " 'mobile alpha': 7320,\n",
       " 'перебоев работе': 34853,\n",
       " 'млн': 28214,\n",
       " 'zte': 12516,\n",
       " 'риф киб 2010': 41530,\n",
       " 'netapp fas': 7748,\n",
       " 'паттерн': 34693,\n",
       " 'explain postgresql': 4050,\n",
       " 'на google ru': 29152,\n",
       " 'bitmessage': 2247,\n",
       " 'справочник для работы': 44609,\n",
       " 'loginza': 6767,\n",
       " 'дыру': 20423,\n",
       " 'как ускорить': 24434,\n",
       " 'railsclub moscow 30': 9235,\n",
       " 'фотокамер': 48255,\n",
       " 'data services': 3214,\n",
       " 'вторую половину': 16643,\n",
       " 'rc4': 9281,\n",
       " 'жизненным циклом': 20772,\n",
       " 'база по': 13565,\n",
       " 'автоматического': 12631,\n",
       " 'помощью svg': 37173,\n",
       " 'продаж galaxy tab': 39176,\n",
       " 'спецификацию': 44500,\n",
       " 'css селекторов': 3113,\n",
       " 'установка freebsd': 47546,\n",
       " 'для создания анимации': 19610,\n",
       " 'мобильных клиентов': 28393,\n",
       " 'iphone ipad ipod': 5961,\n",
       " 'польшу': 37056,\n",
       " 'вторая встреча': 16618,\n",
       " 'сокращалка': 44179,\n",
       " 'программирования под android': 39079,\n",
       " 'on line': 8086,\n",
       " 'диалогов': 18615,\n",
       " 'oracle essbase': 8255,\n",
       " 'wall street попала': 11720,\n",
       " 'между собой': 27706,\n",
       " 'управления сервером': 47381,\n",
       " 'данных для teiid': 18061,\n",
       " 'из командной строки': 22373,\n",
       " 'открылся для': 34018,\n",
       " 'сайте google': 41995,\n",
       " 'телефонах': 45903,\n",
       " 'описание работы': 33181,\n",
       " 'панелями': 34532,\n",
       " 'новшества node webkit': 31596,\n",
       " 'вложенных': 15922,\n",
       " '249': 758,\n",
       " 'вверх': 14996,\n",
       " 'типизированных': 46321,\n",
       " 'адаптер от': 12755,\n",
       " 'малого бизнеса': 27337,\n",
       " 'входа на': 16658,\n",
       " 'com поиск': 2866,\n",
       " 'распространенные ошибки': 40826,\n",
       " 'база geoip страны': 13562,\n",
       " 'выпущена предварительная': 16987,\n",
       " 'eye': 4099,\n",
       " 'загадки': 21158,\n",
       " '172': 420,\n",
       " 'презентация samsung galaxy': 38134,\n",
       " ...}"
      ]
     },
     "execution_count": 16,
     "metadata": {},
     "output_type": "execute_result"
    }
   ],
   "source": [
    "#Можно посмотреть словарь в виде {'термин': индекс признака,...}\n",
    "vectorizer_title.vocabulary_"
   ]
  },
  {
   "cell_type": "markdown",
   "metadata": {},
   "source": [
    "<font color='red'>Вопрос 4.</font> Какой индекс у слова 'python'?\n",
    "- 1\n",
    "- 10\n",
    "- **9065**\n",
    "- 15679"
   ]
  },
  {
   "cell_type": "code",
   "execution_count": 14,
   "metadata": {
    "collapsed": false
   },
   "outputs": [
    {
     "data": {
      "text/plain": [
       "9065"
      ]
     },
     "execution_count": 14,
     "metadata": {},
     "output_type": "execute_result"
    }
   ],
   "source": [
    "vectorizer_title.vocabulary_['python']"
   ]
  },
  {
   "cell_type": "markdown",
   "metadata": {},
   "source": [
    "**Инициализируйте TfidfVectorizer, указав analyzer='char'.<br />\n",
    "Примените метод fit_transform к X_train['title'] и метод transform к X_valid['title'] и X_test['title']**"
   ]
  },
  {
   "cell_type": "markdown",
   "metadata": {},
   "source": [
    "<font color='red'>Вопрос 5.</font> Какой размер у полученного словаря?\n",
    "- **218**\n",
    "- 510\n",
    "- 125\n",
    "- 981"
   ]
  },
  {
   "cell_type": "code",
   "execution_count": 15,
   "metadata": {
    "collapsed": true
   },
   "outputs": [],
   "source": [
    "vectorizer_title_ch = TfidfVectorizer(analyzer='char')\n",
    "\n",
    "X_train_title_ch = vectorizer_title_ch.fit_transform(X_train['title'])\n",
    "X_valid_title_ch = vectorizer_title_ch.transform(X_valid['title'])\n",
    "X_test_title_ch = vectorizer_title_ch.transform(X_test['title'])"
   ]
  },
  {
   "cell_type": "code",
   "execution_count": 19,
   "metadata": {
    "collapsed": false
   },
   "outputs": [
    {
     "data": {
      "text/plain": [
       "(93895, 218)"
      ]
     },
     "execution_count": 19,
     "metadata": {},
     "output_type": "execute_result"
    }
   ],
   "source": [
    "X_train_title_ch.shape"
   ]
  },
  {
   "cell_type": "code",
   "execution_count": 20,
   "metadata": {
    "collapsed": false
   },
   "outputs": [
    {
     "data": {
      "text/plain": [
       "{' ': 0,\n",
       " '!': 1,\n",
       " '\"': 2,\n",
       " '#': 3,\n",
       " '$': 4,\n",
       " '%': 5,\n",
       " '&': 6,\n",
       " \"'\": 7,\n",
       " '(': 8,\n",
       " ')': 9,\n",
       " '*': 10,\n",
       " '+': 11,\n",
       " ',': 12,\n",
       " '-': 13,\n",
       " '.': 14,\n",
       " '/': 15,\n",
       " '0': 16,\n",
       " '1': 17,\n",
       " '2': 18,\n",
       " '3': 19,\n",
       " '4': 20,\n",
       " '5': 21,\n",
       " '6': 22,\n",
       " '7': 23,\n",
       " '8': 24,\n",
       " '9': 25,\n",
       " ':': 26,\n",
       " ';': 27,\n",
       " '<': 28,\n",
       " '=': 29,\n",
       " '>': 30,\n",
       " '?': 31,\n",
       " '@': 32,\n",
       " '[': 33,\n",
       " '\\\\': 34,\n",
       " ']': 35,\n",
       " '^': 36,\n",
       " '_': 37,\n",
       " '`': 38,\n",
       " 'a': 39,\n",
       " 'b': 40,\n",
       " 'c': 41,\n",
       " 'd': 42,\n",
       " 'e': 43,\n",
       " 'f': 44,\n",
       " 'g': 45,\n",
       " 'h': 46,\n",
       " 'i': 47,\n",
       " 'j': 48,\n",
       " 'k': 49,\n",
       " 'l': 50,\n",
       " 'm': 51,\n",
       " 'n': 52,\n",
       " 'o': 53,\n",
       " 'p': 54,\n",
       " 'q': 55,\n",
       " 'r': 56,\n",
       " 's': 57,\n",
       " 't': 58,\n",
       " 'u': 59,\n",
       " 'v': 60,\n",
       " 'w': 61,\n",
       " 'x': 62,\n",
       " 'y': 63,\n",
       " 'z': 64,\n",
       " '{': 65,\n",
       " '|': 66,\n",
       " '}': 67,\n",
       " '~': 68,\n",
       " '\\x92': 69,\n",
       " '\\x97': 70,\n",
       " '\\xa0': 71,\n",
       " '£': 72,\n",
       " '¥': 73,\n",
       " '§': 74,\n",
       " '©': 75,\n",
       " '«': 76,\n",
       " '\\xad': 77,\n",
       " '®': 78,\n",
       " '°': 79,\n",
       " '±': 80,\n",
       " '²': 81,\n",
       " 'µ': 82,\n",
       " '·': 83,\n",
       " '¹': 84,\n",
       " '»': 85,\n",
       " '¼': 86,\n",
       " '½': 87,\n",
       " '×': 88,\n",
       " 'à': 89,\n",
       " 'á': 90,\n",
       " 'â': 91,\n",
       " 'ä': 92,\n",
       " 'ç': 93,\n",
       " 'é': 94,\n",
       " 'ë': 95,\n",
       " 'ï': 96,\n",
       " 'ñ': 97,\n",
       " 'ò': 98,\n",
       " 'ó': 99,\n",
       " 'ö': 100,\n",
       " 'ø': 101,\n",
       " 'ù': 102,\n",
       " 'ú': 103,\n",
       " 'ü': 104,\n",
       " 'ı': 105,\n",
       " 'ǝ': 106,\n",
       " 'ɟ': 107,\n",
       " 'ʇ': 108,\n",
       " '́': 109,\n",
       " '̆': 110,\n",
       " '̱': 111,\n",
       " '̲': 112,\n",
       " '̶': 113,\n",
       " 'β': 114,\n",
       " 'δ': 115,\n",
       " 'λ': 116,\n",
       " 'μ': 117,\n",
       " 'π': 118,\n",
       " 'ω': 119,\n",
       " 'а': 120,\n",
       " 'б': 121,\n",
       " 'в': 122,\n",
       " 'г': 123,\n",
       " 'д': 124,\n",
       " 'е': 125,\n",
       " 'ж': 126,\n",
       " 'з': 127,\n",
       " 'и': 128,\n",
       " 'й': 129,\n",
       " 'к': 130,\n",
       " 'л': 131,\n",
       " 'м': 132,\n",
       " 'н': 133,\n",
       " 'о': 134,\n",
       " 'п': 135,\n",
       " 'р': 136,\n",
       " 'с': 137,\n",
       " 'т': 138,\n",
       " 'у': 139,\n",
       " 'ф': 140,\n",
       " 'х': 141,\n",
       " 'ц': 142,\n",
       " 'ч': 143,\n",
       " 'ш': 144,\n",
       " 'щ': 145,\n",
       " 'ъ': 146,\n",
       " 'ы': 147,\n",
       " 'ь': 148,\n",
       " 'э': 149,\n",
       " 'ю': 150,\n",
       " 'я': 151,\n",
       " 'ё': 152,\n",
       " 'і': 153,\n",
       " 'ї': 154,\n",
       " 'ј': 155,\n",
       " 'ў': 156,\n",
       " 'ѣ': 157,\n",
       " 'қ': 158,\n",
       " '۞': 159,\n",
       " '۩': 160,\n",
       " '฿': 161,\n",
       " '\\u2002': 162,\n",
       " '\\u2006': 163,\n",
       " '\\u2009': 164,\n",
       " '\\u200b': 165,\n",
       " '\\u200e': 166,\n",
       " '‐': 167,\n",
       " '‑': 168,\n",
       " '–': 169,\n",
       " '—': 170,\n",
       " '―': 171,\n",
       " '‘': 172,\n",
       " '’': 173,\n",
       " '“': 174,\n",
       " '”': 175,\n",
       " '„': 176,\n",
       " '•': 177,\n",
       " '…': 178,\n",
       " '\\u2028': 179,\n",
       " '\\u202c': 180,\n",
       " '\\u202d': 181,\n",
       " '′': 182,\n",
       " '″': 183,\n",
       " '‽': 184,\n",
       " '⁰': 185,\n",
       " '€': 186,\n",
       " '№': 187,\n",
       " '™': 188,\n",
       " '⅓': 189,\n",
       " '⅜': 190,\n",
       " '←': 191,\n",
       " '↑': 192,\n",
       " '→': 193,\n",
       " '↔': 194,\n",
       " '↺': 195,\n",
       " '⇄': 196,\n",
       " '⇒': 197,\n",
       " '⇨': 198,\n",
       " '−': 199,\n",
       " '∙': 200,\n",
       " '≈': 201,\n",
       " '≠': 202,\n",
       " '━': 203,\n",
       " '▼': 204,\n",
       " '☠': 205,\n",
       " '☢': 206,\n",
       " '☣': 207,\n",
       " '☼': 208,\n",
       " '♠': 209,\n",
       " '♥': 210,\n",
       " '♫': 211,\n",
       " '❤': 212,\n",
       " '印': 213,\n",
       " '打': 214,\n",
       " '机': 215,\n",
       " '\\ufeff': 216,\n",
       " '！': 217}"
      ]
     },
     "execution_count": 20,
     "metadata": {},
     "output_type": "execute_result"
    }
   ],
   "source": [
    "#Здесь так же можно посмотреть словарь\n",
    "#Заметьте насколько отличаются словари для TfidfVectorizer с analyzer='word' и analyzer='char'\n",
    "vectorizer_title_ch.vocabulary_"
   ]
  },
  {
   "cell_type": "markdown",
   "metadata": {},
   "source": [
    "## Работа с категориальными признаками\n",
    "\n",
    "Для обработки категориальных признаков 'author', 'flow', 'domain' мы будем использовать DictVectorizer из sklearn."
   ]
  },
  {
   "cell_type": "code",
   "execution_count": 16,
   "metadata": {
    "collapsed": false,
    "scrolled": true
   },
   "outputs": [
    {
     "data": {
      "text/html": [
       "<div>\n",
       "<table border=\"1\" class=\"dataframe\">\n",
       "  <thead>\n",
       "    <tr style=\"text-align: right;\">\n",
       "      <th></th>\n",
       "      <th>author</th>\n",
       "      <th>flow</th>\n",
       "      <th>domain</th>\n",
       "    </tr>\n",
       "  </thead>\n",
       "  <tbody>\n",
       "    <tr>\n",
       "      <th>0</th>\n",
       "      <td>@Tapac</td>\n",
       "      <td>develop</td>\n",
       "      <td>habrahabr.ru</td>\n",
       "    </tr>\n",
       "    <tr>\n",
       "      <th>1</th>\n",
       "      <td>@DezmASter</td>\n",
       "      <td>design</td>\n",
       "      <td>habrahabr.ru</td>\n",
       "    </tr>\n",
       "    <tr>\n",
       "      <th>2</th>\n",
       "      <td>@DezmASter</td>\n",
       "      <td>design</td>\n",
       "      <td>habrahabr.ru</td>\n",
       "    </tr>\n",
       "    <tr>\n",
       "      <th>3</th>\n",
       "      <td>@Taoorus</td>\n",
       "      <td>design</td>\n",
       "      <td>habrahabr.ru</td>\n",
       "    </tr>\n",
       "    <tr>\n",
       "      <th>4</th>\n",
       "      <td>@dennydo</td>\n",
       "      <td>NaN</td>\n",
       "      <td>geektimes.ru</td>\n",
       "    </tr>\n",
       "  </tbody>\n",
       "</table>\n",
       "</div>"
      ],
      "text/plain": [
       "       author     flow        domain\n",
       "0      @Tapac  develop  habrahabr.ru\n",
       "1  @DezmASter   design  habrahabr.ru\n",
       "2  @DezmASter   design  habrahabr.ru\n",
       "3    @Taoorus   design  habrahabr.ru\n",
       "4    @dennydo      NaN  geektimes.ru"
      ]
     },
     "execution_count": 16,
     "metadata": {},
     "output_type": "execute_result"
    }
   ],
   "source": [
    "feats = ['author', 'flow', 'domain']\n",
    "X_train[feats][:5]"
   ]
  },
  {
   "cell_type": "markdown",
   "metadata": {},
   "source": [
    "Рассмотрим как он работает на примере первых пяти строк"
   ]
  },
  {
   "cell_type": "code",
   "execution_count": 87,
   "metadata": {
    "collapsed": false
   },
   "outputs": [
    {
     "data": {
      "text/html": [
       "<div>\n",
       "<table border=\"1\" class=\"dataframe\">\n",
       "  <thead>\n",
       "    <tr style=\"text-align: right;\">\n",
       "      <th></th>\n",
       "      <th>author</th>\n",
       "      <th>flow</th>\n",
       "      <th>domain</th>\n",
       "    </tr>\n",
       "  </thead>\n",
       "  <tbody>\n",
       "    <tr>\n",
       "      <th>0</th>\n",
       "      <td>@Tapac</td>\n",
       "      <td>develop</td>\n",
       "      <td>habrahabr.ru</td>\n",
       "    </tr>\n",
       "    <tr>\n",
       "      <th>1</th>\n",
       "      <td>@DezmASter</td>\n",
       "      <td>design</td>\n",
       "      <td>habrahabr.ru</td>\n",
       "    </tr>\n",
       "    <tr>\n",
       "      <th>2</th>\n",
       "      <td>@DezmASter</td>\n",
       "      <td>design</td>\n",
       "      <td>habrahabr.ru</td>\n",
       "    </tr>\n",
       "    <tr>\n",
       "      <th>3</th>\n",
       "      <td>@Taoorus</td>\n",
       "      <td>design</td>\n",
       "      <td>habrahabr.ru</td>\n",
       "    </tr>\n",
       "    <tr>\n",
       "      <th>4</th>\n",
       "      <td>@dennydo</td>\n",
       "      <td>-</td>\n",
       "      <td>geektimes.ru</td>\n",
       "    </tr>\n",
       "  </tbody>\n",
       "</table>\n",
       "</div>"
      ],
      "text/plain": [
       "       author     flow        domain\n",
       "0      @Tapac  develop  habrahabr.ru\n",
       "1  @DezmASter   design  habrahabr.ru\n",
       "2  @DezmASter   design  habrahabr.ru\n",
       "3    @Taoorus   design  habrahabr.ru\n",
       "4    @dennydo        -  geektimes.ru"
      ]
     },
     "execution_count": 87,
     "metadata": {},
     "output_type": "execute_result"
    }
   ],
   "source": [
    "#сначала заполняем пропуски прочерком\n",
    "X_train[feats][:5].fillna('-')"
   ]
  },
  {
   "cell_type": "code",
   "execution_count": 88,
   "metadata": {
    "collapsed": false
   },
   "outputs": [
    {
     "data": {
      "text/plain": [
       "{0: {'author': '@Tapac', 'domain': 'habrahabr.ru', 'flow': 'develop'},\n",
       " 1: {'author': '@DezmASter', 'domain': 'habrahabr.ru', 'flow': 'design'},\n",
       " 2: {'author': '@DezmASter', 'domain': 'habrahabr.ru', 'flow': 'design'},\n",
       " 3: {'author': '@Taoorus', 'domain': 'habrahabr.ru', 'flow': 'design'},\n",
       " 4: {'author': '@dennydo', 'domain': 'geektimes.ru', 'flow': '-'}}"
      ]
     },
     "execution_count": 88,
     "metadata": {},
     "output_type": "execute_result"
    }
   ],
   "source": [
    "#Преобразуем датафрейм в словарь, где ключами являются индексы объектов (именно для этого мы транспонировали датафрейм),\n",
    "#а значениями являются словари в виде 'название_колонки':'значение'\n",
    "X_train[feats][:5].fillna('-').T.to_dict()"
   ]
  },
  {
   "cell_type": "code",
   "execution_count": 94,
   "metadata": {
    "collapsed": false
   },
   "outputs": [
    {
     "data": {
      "text/plain": [
       "dict_values([{'flow': 'develop', 'author': '@Tapac', 'domain': 'habrahabr.ru'}, {'flow': 'design', 'author': '@DezmASter', 'domain': 'habrahabr.ru'}, {'flow': 'design', 'author': '@DezmASter', 'domain': 'habrahabr.ru'}, {'flow': 'design', 'author': '@Taoorus', 'domain': 'habrahabr.ru'}, {'flow': '-', 'author': '@dennydo', 'domain': 'geektimes.ru'}])"
      ]
     },
     "execution_count": 94,
     "metadata": {},
     "output_type": "execute_result"
    }
   ],
   "source": [
    "#В DictVectorizer нам нужно будет передать список словарей для каждого объекта в виде 'название_колонки':'значение',\n",
    "#поэтому используем .values()\n",
    "X_train[feats][:5].fillna('-').T.to_dict().values()"
   ]
  },
  {
   "cell_type": "code",
   "execution_count": 43,
   "metadata": {
    "collapsed": false
   },
   "outputs": [
    {
     "data": {
      "text/plain": [
       "<5x9 sparse matrix of type '<class 'numpy.float64'>'\n",
       "\twith 15 stored elements in Compressed Sparse Row format>"
      ]
     },
     "execution_count": 43,
     "metadata": {},
     "output_type": "execute_result"
    }
   ],
   "source": [
    "#В итоге получается разреженная матрица\n",
    "dict_vect = DictVectorizer()\n",
    "dict_vect_matrix = dict_vect.fit_transform(X_train[feats][:5].fillna('-').T.to_dict().values())\n",
    "dict_vect_matrix"
   ]
  },
  {
   "cell_type": "code",
   "execution_count": 44,
   "metadata": {
    "collapsed": false
   },
   "outputs": [
    {
     "data": {
      "text/plain": [
       "array([[ 0.,  0.,  1.,  0.,  0.,  1.,  0.,  0.,  1.],\n",
       "       [ 1.,  0.,  0.,  0.,  0.,  1.,  0.,  1.,  0.],\n",
       "       [ 1.,  0.,  0.,  0.,  0.,  1.,  0.,  1.,  0.],\n",
       "       [ 0.,  1.,  0.,  0.,  0.,  1.,  0.,  1.,  0.],\n",
       "       [ 0.,  0.,  0.,  1.,  1.,  0.,  1.,  0.,  0.]])"
      ]
     },
     "execution_count": 44,
     "metadata": {},
     "output_type": "execute_result"
    }
   ],
   "source": [
    "#Но можно преобразовать ее в numpy array с помощью .toarray()\n",
    "dict_vect_matrix.toarray()"
   ]
  },
  {
   "cell_type": "code",
   "execution_count": 45,
   "metadata": {
    "collapsed": false
   },
   "outputs": [
    {
     "data": {
      "text/plain": [
       "(5, 9)"
      ]
     },
     "execution_count": 45,
     "metadata": {},
     "output_type": "execute_result"
    }
   ],
   "source": [
    "#В получившейся матрице 5 строк (по числу объектов) и 9 столбцов\n",
    "#Далее разберемся почему колонок именно 9\n",
    "dict_vect_matrix.shape"
   ]
  },
  {
   "cell_type": "markdown",
   "metadata": {},
   "source": [
    "Посмотрим сколько уникальных значений в каждой колонке.<br />\n",
    "Суммарно их 9 - столько же, сколько и колонок. Это объясняется тем, что для категориальных признаков со строковыми значениями DictVectorizer делает кодирование бинарными признаками - каждому уникальному значению признака соответствует один новый бинарный признак, который равен 1 только в том случае, если в исходной матрице этот признак принимает значение, которому соответствует эта колонка новой матрицы."
   ]
  },
  {
   "cell_type": "code",
   "execution_count": 17,
   "metadata": {
    "collapsed": false
   },
   "outputs": [
    {
     "name": "stdout",
     "output_type": "stream",
     "text": [
      "author 4\n",
      "flow 3\n",
      "domain 2\n"
     ]
    }
   ],
   "source": [
    "for col in feats:\n",
    "    print(col,len(X_train[col][:5].fillna('-').unique()))"
   ]
  },
  {
   "cell_type": "markdown",
   "metadata": {},
   "source": [
    "Также можно посмотреть что означает каждая колонка полученной матрицы"
   ]
  },
  {
   "cell_type": "code",
   "execution_count": 49,
   "metadata": {
    "collapsed": false
   },
   "outputs": [
    {
     "data": {
      "text/plain": [
       "['author=@DezmASter',\n",
       " 'author=@Taoorus',\n",
       " 'author=@Tapac',\n",
       " 'author=@dennydo',\n",
       " 'domain=geektimes.ru',\n",
       " 'domain=habrahabr.ru',\n",
       " 'flow=-',\n",
       " 'flow=design',\n",
       " 'flow=develop']"
      ]
     },
     "execution_count": 49,
     "metadata": {},
     "output_type": "execute_result"
    }
   ],
   "source": [
    "#например, самая первая колонка называется 'author=@DezmASter' - то есть принимает значение 1 только если автор @DezmASter\n",
    "dict_vect.feature_names_"
   ]
  },
  {
   "cell_type": "markdown",
   "metadata": {},
   "source": [
    "**Инициализируйте DictVectorizer с параметрами по умолчанию.<br />\n",
    "Примените метод fit_transform к X_train['title'] и метод transform к X_valid['title'] и X_test['title']**"
   ]
  },
  {
   "cell_type": "code",
   "execution_count": 18,
   "metadata": {
    "collapsed": true
   },
   "outputs": [],
   "source": [
    "vectorizer_feats = DictVectorizer()\n",
    "\n",
    "X_train_feats = vectorizer_feats.fit_transform(X_train.ix[:, feats].fillna('-').T.to_dict().values())\n",
    "X_valid_feats = vectorizer_feats.transform(X_valid.ix[:, feats].fillna('-').T.to_dict().values())\n",
    "X_test_feats = vectorizer_feats.transform(X_test.ix[:, feats].fillna('-').T.to_dict().values())"
   ]
  },
  {
   "cell_type": "code",
   "execution_count": 19,
   "metadata": {
    "collapsed": false
   },
   "outputs": [
    {
     "data": {
      "text/plain": [
       "(93895, 17869)"
      ]
     },
     "execution_count": 19,
     "metadata": {},
     "output_type": "execute_result"
    }
   ],
   "source": [
    "X_train_feats.shape"
   ]
  },
  {
   "cell_type": "markdown",
   "metadata": {},
   "source": [
    "Соединим все полученные матрицы при помощи scipy.sparse.hstack()"
   ]
  },
  {
   "cell_type": "code",
   "execution_count": 21,
   "metadata": {
    "collapsed": false
   },
   "outputs": [],
   "source": [
    "X_train_new = scipy.sparse.hstack([X_train_title, X_train_feats, X_train_title_ch])\n",
    "X_valid_new = scipy.sparse.hstack([X_valid_title, X_valid_feats, X_valid_title_ch])\n",
    "X_test_new =  scipy.sparse.hstack([X_test_title, X_test_feats, X_test_title_ch])"
   ]
  },
  {
   "cell_type": "markdown",
   "metadata": {},
   "source": [
    "## Обучение модели\n",
    "\n",
    "Далее будем использовать Ridge, линейную модель с l2-регуляризацией.\n",
    "[Документация](http://scikit-learn.org/stable/modules/generated/sklearn.linear_model.Ridge.html)\n",
    "\n",
    "Основной параметр Ridge - **alpha, коэффициент регуляризации**. Регуляризация используется для улучшения обобщающей способности модели - прибавляя к функционалу потерь сумму квадратов весов, умноженную на коэффициент регуляризации (та самая alpha), мы штрафуем модель за слишком большие значения весов и не позволяем ей переобучаться. Чем больше этот коээфициент, тем сильнее эффект."
   ]
  },
  {
   "cell_type": "markdown",
   "metadata": {},
   "source": [
    "**Обучите две модели на X_train_new, y_train, задав в первой alpha=0.1 и random_state = 1, а во второй alpha=1.0 и random_state = 1**\n",
    "\n",
    "**Рассчитайте среднеквадратичную ошибку каждой модели (mean_squared_error). Сравните значения ошибки на обучающей и тестовой выборках и ответьте на вопросы.**"
   ]
  },
  {
   "cell_type": "markdown",
   "metadata": {},
   "source": [
    "<font color='red'>Вопрос 6.</font> Выберите верные утверждения:\n",
    "- обе модели показывают одинаковый результат (среднеквадратичная ошибка отличается не больше чем на тысячные), регуляризация ничего не меняет\n",
    "- **при alpha=0.1 модель переобучается**\n",
    "- среднеквадратичная ошибка первой модели на тесте меньше\n",
    "- **при alpha=1.0 у модели обощающая способность лучше, чем у при alpha=0.1**"
   ]
  },
  {
   "cell_type": "code",
   "execution_count": 22,
   "metadata": {
    "collapsed": false,
    "scrolled": true
   },
   "outputs": [
    {
     "name": "stdout",
     "output_type": "stream",
     "text": [
      "CPU times: user 9.14 s, sys: 88 ms, total: 9.22 s\n",
      "Wall time: 9.24 s\n"
     ]
    }
   ],
   "source": [
    "%%time\n",
    "model1 = Ridge(alpha=0.1,random_state=1)\n",
    "model1.fit(X_train_new, y_train)"
   ]
  },
  {
   "cell_type": "code",
   "execution_count": 23,
   "metadata": {
    "collapsed": false
   },
   "outputs": [
    {
     "name": "stdout",
     "output_type": "stream",
     "text": [
      "Ошибка на трейне 0.184107031582\n",
      "Ошибка на тесте 0.996233534497\n"
     ]
    }
   ],
   "source": [
    "train_preds1 = model1.predict(X_train_new)\n",
    "valid_preds1 = model1.predict(X_valid_new)\n",
    "\n",
    "print('Ошибка на трейне',mean_squared_error(y_train, train_preds1))\n",
    "print('Ошибка на тесте',mean_squared_error(y_valid, valid_preds1))"
   ]
  },
  {
   "cell_type": "code",
   "execution_count": 24,
   "metadata": {
    "collapsed": false
   },
   "outputs": [
    {
     "name": "stdout",
     "output_type": "stream",
     "text": [
      "CPU times: user 3.77 s, sys: 28 ms, total: 3.8 s\n",
      "Wall time: 3.8 s\n"
     ]
    }
   ],
   "source": [
    "%%time\n",
    "model2 = Ridge(alpha=1.0,random_state=1)\n",
    "model2.fit(X_train_new, y_train)"
   ]
  },
  {
   "cell_type": "code",
   "execution_count": 25,
   "metadata": {
    "collapsed": false
   },
   "outputs": [
    {
     "name": "stdout",
     "output_type": "stream",
     "text": [
      "Ошибка на трейне 0.28624407471\n",
      "Ошибка на тесте 0.80695156251\n"
     ]
    }
   ],
   "source": [
    "train_preds2 = model2.predict(X_train_new)\n",
    "valid_preds2 = model2.predict(X_valid_new)\n",
    "\n",
    "print('Ошибка на трейне',mean_squared_error(y_train, train_preds2))\n",
    "print('Ошибка на тесте',mean_squared_error(y_valid, valid_preds2))"
   ]
  },
  {
   "cell_type": "markdown",
   "metadata": {},
   "source": [
    "## Baseline\n",
    "\n",
    "**Теперь попытаемся получить бейзлайн для соревования - используйте Ridge с параметрами по умолчанию и обучите модель на всех данных - соедините X_train_new X_valid_new (используйте scipy.sparse.vstack()), а целевой переменной будет y.**"
   ]
  },
  {
   "cell_type": "code",
   "execution_count": 31,
   "metadata": {
    "collapsed": false
   },
   "outputs": [
    {
     "name": "stdout",
     "output_type": "stream",
     "text": [
      "CPU times: user 7.61 s, sys: 228 ms, total: 7.84 s\n",
      "Wall time: 7.83 s\n"
     ]
    }
   ],
   "source": [
    "%%time\n",
    "\n",
    "model = Ridge()\n",
    "\n",
    "model.fit(scipy.sparse.vstack([X_train_new, X_valid_new]), y) #обучаем на всех данных\n",
    "test_preds = model.predict(X_test_new)"
   ]
  },
  {
   "cell_type": "code",
   "execution_count": 32,
   "metadata": {
    "collapsed": true
   },
   "outputs": [],
   "source": [
    "sample_submission = pd.read_csv('sample_submission.csv', index_col='url')"
   ]
  },
  {
   "cell_type": "code",
   "execution_count": 33,
   "metadata": {
    "collapsed": false
   },
   "outputs": [
    {
     "data": {
      "text/html": [
       "<div>\n",
       "<table border=\"1\" class=\"dataframe\">\n",
       "  <thead>\n",
       "    <tr style=\"text-align: right;\">\n",
       "      <th></th>\n",
       "      <th>favs_lognorm</th>\n",
       "    </tr>\n",
       "    <tr>\n",
       "      <th>url</th>\n",
       "      <th></th>\n",
       "    </tr>\n",
       "  </thead>\n",
       "  <tbody>\n",
       "    <tr>\n",
       "      <th>https://habrahabr.ru/post/314080/</th>\n",
       "      <td>0.323588</td>\n",
       "    </tr>\n",
       "    <tr>\n",
       "      <th>https://habrahabr.ru/company/plesk/blog/313732/</th>\n",
       "      <td>0.560105</td>\n",
       "    </tr>\n",
       "    <tr>\n",
       "      <th>https://habrahabr.ru/company/etagi/blog/314000/</th>\n",
       "      <td>0.667039</td>\n",
       "    </tr>\n",
       "    <tr>\n",
       "      <th>https://habrahabr.ru/company/knopka/blog/314030/</th>\n",
       "      <td>0.149563</td>\n",
       "    </tr>\n",
       "    <tr>\n",
       "      <th>https://geektimes.ru/company/audiomania/blog/282058/</th>\n",
       "      <td>0.670754</td>\n",
       "    </tr>\n",
       "  </tbody>\n",
       "</table>\n",
       "</div>"
      ],
      "text/plain": [
       "                                                    favs_lognorm\n",
       "url                                                             \n",
       "https://habrahabr.ru/post/314080/                       0.323588\n",
       "https://habrahabr.ru/company/plesk/blog/313732/         0.560105\n",
       "https://habrahabr.ru/company/etagi/blog/314000/         0.667039\n",
       "https://habrahabr.ru/company/knopka/blog/314030/        0.149563\n",
       "https://geektimes.ru/company/audiomania/blog/28...      0.670754"
      ]
     },
     "execution_count": 33,
     "metadata": {},
     "output_type": "execute_result"
    }
   ],
   "source": [
    "sample_submission.head()"
   ]
  },
  {
   "cell_type": "code",
   "execution_count": 50,
   "metadata": {
    "collapsed": false
   },
   "outputs": [],
   "source": [
    "ridge_submission = sample_submission.copy()\n",
    "ridge_submission['favs_lognorm'] = test_preds\n",
    "ridge_submission.to_csv('ridge_baseline.csv') #а вот и бейзлайн"
   ]
  }
 ],
 "metadata": {
  "anaconda-cloud": {},
  "kernelspec": {
   "display_name": "Python 3",
   "language": "python",
   "name": "python3"
  },
  "language_info": {
   "codemirror_mode": {
    "name": "ipython",
    "version": 3
   },
   "file_extension": ".py",
   "mimetype": "text/x-python",
   "name": "python",
   "nbconvert_exporter": "python",
   "pygments_lexer": "ipython3",
   "version": "3.6.0"
  }
 },
 "nbformat": 4,
 "nbformat_minor": 0
}
