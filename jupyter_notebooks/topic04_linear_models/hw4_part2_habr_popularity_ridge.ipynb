{
 "cells": [
  {
   "cell_type": "markdown",
   "metadata": {},
   "source": [
    "<center>\n",
    "<img src=\"../../img/ods_stickers.jpg\">\n",
    "## Открытый курс по машинному обучению\n",
    "</center>\n",
    "<center>Автор материала: Ольга Дайховская"
   ]
  },
  {
   "cell_type": "markdown",
   "metadata": {},
   "source": [
    "# <center> Домашнее задание № 4. Часть 2\n",
    "## <center>  Прогнозирование популярности статей на TechMedia с помощью линейных моделей\n",
    "\n",
    "**В задании Вам предлагается разобраться с тем, как работает TfidfVectorizer и DictVectorizer, затем обучить и настроить модель линейной регрессии Ridge на данных о публикациях на Хабрахабре. Пройдя все шаги, вы сможете получить бейзлайн для [соревнования](https://inclass.kaggle.com/c/howpop-habrahabr-favs-lognorm). \n",
    "Ответьте на все вопросы в этой тетрадке и заполните ответы в [гугл-форме](https://docs.google.com/forms/d/e/1FAIpQLSd8E7naU38ikc9-rd31KeVfez3emCo4Ok1WrpQTr-XCDelRiw/viewform).**"
   ]
  },
  {
   "cell_type": "markdown",
   "metadata": {},
   "source": [
    "**Описание соревнования**\n",
    "\n",
    "Предскажите, как много звездочек наберет статья, зная только ее текст и время публикации\n",
    "\n",
    "Необходимо предсказать популярность поста на Хабре по содержанию и времени публикации. Как известно, пользователи Хабра могут добавлять статьи к себе в избранное. Общее количество пользователей, которое это сделали отображается у статьи количеством звездочек. Будем считать, что число звездочек, поставленных статье, наиболее хорошо отражает ее популярность.\n",
    "\n",
    "Более формально, в качестве метрики популярности статьи будем использовать долю статей за последний месяц, у которых количество звездочек меньше чем у текущей статьи. А точнее, доле числа звездочек можно поставить в соответствие квантили стандартного распределения, таким образом получаем числовую характеристику популярности статьи. Популярность статьи 0 означает, что статья получила ровно столько звездочек, сколько в среднем получают статьи. И соответственно чем больше звездочек получила статья по сравнению со средним, тем выше это число."
   ]
  },
  {
   "cell_type": "markdown",
   "metadata": {},
   "source": [
    "**Приступим:** импортируем необходимые библиотеки и скачаем данные"
   ]
  },
  {
   "cell_type": "code",
   "execution_count": 10,
   "metadata": {
    "collapsed": false
   },
   "outputs": [],
   "source": [
    "import pandas as pd\n",
    "\n",
    "from sklearn.feature_extraction.text import TfidfVectorizer\n",
    "from sklearn.feature_extraction import DictVectorizer\n",
    "\n",
    "#В зависимости от версии sklearn\n",
    "from sklearn.model_selection import train_test_split\n",
    "#from sklearn.cross_validation import train_test_split\n",
    "\n",
    "from sklearn.linear_model import Ridge\n",
    "from sklearn.metrics import mean_squared_error\n",
    "\n",
    "import numpy as np\n",
    "import scipy\n",
    "import seaborn as sns\n",
    "\n",
    "%matplotlib inline\n",
    "from matplotlib import pyplot as plt"
   ]
  },
  {
   "cell_type": "code",
   "execution_count": 2,
   "metadata": {
    "collapsed": false,
    "scrolled": true
   },
   "outputs": [],
   "source": [
    "train_df = pd.read_csv('../../data/howpop_train.csv')\n",
    "test_df  = pd.read_csv('../../data/howpop_test.csv')"
   ]
  },
  {
   "cell_type": "code",
   "execution_count": 3,
   "metadata": {
    "collapsed": false
   },
   "outputs": [
    {
     "data": {
      "text/html": [
       "<div>\n",
       "<table border=\"1\" class=\"dataframe\">\n",
       "  <thead>\n",
       "    <tr style=\"text-align: right;\">\n",
       "      <th></th>\n",
       "      <th>0</th>\n",
       "    </tr>\n",
       "  </thead>\n",
       "  <tbody>\n",
       "    <tr>\n",
       "      <th>url</th>\n",
       "      <td>https://habrahabr.ru/post/18284/</td>\n",
       "    </tr>\n",
       "    <tr>\n",
       "      <th>domain</th>\n",
       "      <td>habrahabr.ru</td>\n",
       "    </tr>\n",
       "    <tr>\n",
       "      <th>post_id</th>\n",
       "      <td>18284</td>\n",
       "    </tr>\n",
       "    <tr>\n",
       "      <th>published</th>\n",
       "      <td>2008-01-01 18:19:00</td>\n",
       "    </tr>\n",
       "    <tr>\n",
       "      <th>author</th>\n",
       "      <td>@Tapac</td>\n",
       "    </tr>\n",
       "    <tr>\n",
       "      <th>flow</th>\n",
       "      <td>develop</td>\n",
       "    </tr>\n",
       "    <tr>\n",
       "      <th>polling</th>\n",
       "      <td>False</td>\n",
       "    </tr>\n",
       "    <tr>\n",
       "      <th>content_len</th>\n",
       "      <td>4305</td>\n",
       "    </tr>\n",
       "    <tr>\n",
       "      <th>title</th>\n",
       "      <td>Новогодний подарок блоггерам — WordPress 2.3.2</td>\n",
       "    </tr>\n",
       "    <tr>\n",
       "      <th>comments</th>\n",
       "      <td>0</td>\n",
       "    </tr>\n",
       "    <tr>\n",
       "      <th>favs</th>\n",
       "      <td>0</td>\n",
       "    </tr>\n",
       "    <tr>\n",
       "      <th>views</th>\n",
       "      <td>236</td>\n",
       "    </tr>\n",
       "    <tr>\n",
       "      <th>votes_plus</th>\n",
       "      <td>0</td>\n",
       "    </tr>\n",
       "    <tr>\n",
       "      <th>votes_minus</th>\n",
       "      <td>0</td>\n",
       "    </tr>\n",
       "    <tr>\n",
       "      <th>views_lognorm</th>\n",
       "      <td>-0.792687</td>\n",
       "    </tr>\n",
       "    <tr>\n",
       "      <th>favs_lognorm</th>\n",
       "      <td>-1.34407</td>\n",
       "    </tr>\n",
       "    <tr>\n",
       "      <th>comments_lognorm</th>\n",
       "      <td>-2.43687</td>\n",
       "    </tr>\n",
       "  </tbody>\n",
       "</table>\n",
       "</div>"
      ],
      "text/plain": [
       "                                                               0\n",
       "url                             https://habrahabr.ru/post/18284/\n",
       "domain                                              habrahabr.ru\n",
       "post_id                                                    18284\n",
       "published                                    2008-01-01 18:19:00\n",
       "author                                                    @Tapac\n",
       "flow                                                     develop\n",
       "polling                                                    False\n",
       "content_len                                                 4305\n",
       "title             Новогодний подарок блоггерам — WordPress 2.3.2\n",
       "comments                                                       0\n",
       "favs                                                           0\n",
       "views                                                        236\n",
       "votes_plus                                                     0\n",
       "votes_minus                                                    0\n",
       "views_lognorm                                          -0.792687\n",
       "favs_lognorm                                            -1.34407\n",
       "comments_lognorm                                        -2.43687"
      ]
     },
     "execution_count": 3,
     "metadata": {},
     "output_type": "execute_result"
    }
   ],
   "source": [
    "train_df.head(1).T"
   ]
  },
  {
   "cell_type": "code",
   "execution_count": 4,
   "metadata": {
    "collapsed": false
   },
   "outputs": [
    {
     "data": {
      "text/plain": [
       "((134137, 17), (3990, 9))"
      ]
     },
     "execution_count": 4,
     "metadata": {},
     "output_type": "execute_result"
    }
   ],
   "source": [
    "train_df.shape, test_df.shape"
   ]
  },
  {
   "cell_type": "markdown",
   "metadata": {},
   "source": [
    "Убедимся, что данные отсортированы по признаку `published`"
   ]
  },
  {
   "cell_type": "code",
   "execution_count": 8,
   "metadata": {
    "collapsed": false
   },
   "outputs": [
    {
     "data": {
      "image/png": "[encoded data removed]",
      "text/plain": [
       "<matplotlib.figure.Figure at 0x7fb3c39fcef0>"
      ]
     },
     "metadata": {},
     "output_type": "display_data"
    }
   ],
   "source": [
    "train_df['published'].apply(lambda ts: pd.to_datetime(ts).value).plot();"
   ]
  },
  {
   "cell_type": "markdown",
   "metadata": {},
   "source": [
    "**Чтобы ответить на вопросы 1 и 2, можно использовать [pandas.DataFrame.corr()](http://pandas.pydata.org/pandas-docs/stable/generated/pandas.DataFrame.corr.html), [pandas.to_datetime()](http://pandas.pydata.org/pandas-docs/stable/generated/pandas.to_datetime.html) и [pandas.Series.value_counts()](http://pandas.pydata.org/pandas-docs/stable/generated/pandas.Series.value_counts.html)**"
   ]
  },
  {
   "cell_type": "markdown",
   "metadata": {},
   "source": [
    "<font color='red'>Вопрос 1.</font> Есть ли в train_df признаки, корреляция между которыми больше 0.9? Обратите внимание, именно различные признаки - корреляция признака с самим собой естественно больше 0.9 :)\n",
    "- да\n",
    "- нет\n",
    "- не знаю"
   ]
  },
  {
   "cell_type": "markdown",
   "metadata": {},
   "source": [
    "# !! Не понятно как сделать красиво "
   ]
  },
  {
   "cell_type": "code",
   "execution_count": 12,
   "metadata": {
    "collapsed": false
   },
   "outputs": [
    {
     "data": {
      "text/html": [
       "<div>\n",
       "<table border=\"1\" class=\"dataframe\">\n",
       "  <thead>\n",
       "    <tr style=\"text-align: right;\">\n",
       "      <th></th>\n",
       "      <th>post_id</th>\n",
       "      <th>polling</th>\n",
       "      <th>content_len</th>\n",
       "      <th>comments</th>\n",
       "      <th>favs</th>\n",
       "      <th>views</th>\n",
       "      <th>votes_plus</th>\n",
       "      <th>votes_minus</th>\n",
       "      <th>views_lognorm</th>\n",
       "      <th>favs_lognorm</th>\n",
       "      <th>comments_lognorm</th>\n",
       "    </tr>\n",
       "  </thead>\n",
       "  <tbody>\n",
       "    <tr>\n",
       "      <th>post_id</th>\n",
       "      <td>1.000000</td>\n",
       "      <td>0.081628</td>\n",
       "      <td>0.241384</td>\n",
       "      <td>-0.147763</td>\n",
       "      <td>0.089313</td>\n",
       "      <td>0.132385</td>\n",
       "      <td>-0.187885</td>\n",
       "      <td>-0.235594</td>\n",
       "      <td>-0.010376</td>\n",
       "      <td>-0.005845</td>\n",
       "      <td>-0.001605</td>\n",
       "    </tr>\n",
       "    <tr>\n",
       "      <th>polling</th>\n",
       "      <td>0.081628</td>\n",
       "      <td>1.000000</td>\n",
       "      <td>-0.003337</td>\n",
       "      <td>0.042605</td>\n",
       "      <td>0.006882</td>\n",
       "      <td>0.025660</td>\n",
       "      <td>-0.033505</td>\n",
       "      <td>0.027116</td>\n",
       "      <td>-0.003523</td>\n",
       "      <td>-0.036385</td>\n",
       "      <td>0.071417</td>\n",
       "    </tr>\n",
       "    <tr>\n",
       "      <th>content_len</th>\n",
       "      <td>0.241384</td>\n",
       "      <td>-0.003337</td>\n",
       "      <td>1.000000</td>\n",
       "      <td>-0.023544</td>\n",
       "      <td>0.308194</td>\n",
       "      <td>0.204101</td>\n",
       "      <td>0.068779</td>\n",
       "      <td>-0.078686</td>\n",
       "      <td>0.246063</td>\n",
       "      <td>0.356481</td>\n",
       "      <td>0.073132</td>\n",
       "    </tr>\n",
       "    <tr>\n",
       "      <th>comments</th>\n",
       "      <td>-0.147763</td>\n",
       "      <td>0.042605</td>\n",
       "      <td>-0.023544</td>\n",
       "      <td>1.000000</td>\n",
       "      <td>0.164166</td>\n",
       "      <td>0.290035</td>\n",
       "      <td>0.613961</td>\n",
       "      <td>0.457638</td>\n",
       "      <td>0.349568</td>\n",
       "      <td>0.278942</td>\n",
       "      <td>0.662740</td>\n",
       "    </tr>\n",
       "    <tr>\n",
       "      <th>favs</th>\n",
       "      <td>0.089313</td>\n",
       "      <td>0.006882</td>\n",
       "      <td>0.308194</td>\n",
       "      <td>0.164166</td>\n",
       "      <td>1.000000</td>\n",
       "      <td>0.634304</td>\n",
       "      <td>0.416241</td>\n",
       "      <td>0.062877</td>\n",
       "      <td>0.456097</td>\n",
       "      <td>0.587982</td>\n",
       "      <td>0.263239</td>\n",
       "    </tr>\n",
       "    <tr>\n",
       "      <th>views</th>\n",
       "      <td>0.132385</td>\n",
       "      <td>0.025660</td>\n",
       "      <td>0.204101</td>\n",
       "      <td>0.290035</td>\n",
       "      <td>0.634304</td>\n",
       "      <td>1.000000</td>\n",
       "      <td>0.396849</td>\n",
       "      <td>0.128654</td>\n",
       "      <td>0.585105</td>\n",
       "      <td>0.406782</td>\n",
       "      <td>0.326427</td>\n",
       "    </tr>\n",
       "    <tr>\n",
       "      <th>votes_plus</th>\n",
       "      <td>-0.187885</td>\n",
       "      <td>-0.033505</td>\n",
       "      <td>0.068779</td>\n",
       "      <td>0.613961</td>\n",
       "      <td>0.416241</td>\n",
       "      <td>0.396849</td>\n",
       "      <td>1.000000</td>\n",
       "      <td>0.464168</td>\n",
       "      <td>0.414232</td>\n",
       "      <td>0.449712</td>\n",
       "      <td>0.525081</td>\n",
       "    </tr>\n",
       "    <tr>\n",
       "      <th>votes_minus</th>\n",
       "      <td>-0.235594</td>\n",
       "      <td>0.027116</td>\n",
       "      <td>-0.078686</td>\n",
       "      <td>0.457638</td>\n",
       "      <td>0.062877</td>\n",
       "      <td>0.128654</td>\n",
       "      <td>0.464168</td>\n",
       "      <td>1.000000</td>\n",
       "      <td>0.146609</td>\n",
       "      <td>0.088226</td>\n",
       "      <td>0.355458</td>\n",
       "    </tr>\n",
       "    <tr>\n",
       "      <th>views_lognorm</th>\n",
       "      <td>-0.010376</td>\n",
       "      <td>-0.003523</td>\n",
       "      <td>0.246063</td>\n",
       "      <td>0.349568</td>\n",
       "      <td>0.456097</td>\n",
       "      <td>0.585105</td>\n",
       "      <td>0.414232</td>\n",
       "      <td>0.146609</td>\n",
       "      <td>1.000000</td>\n",
       "      <td>0.688811</td>\n",
       "      <td>0.546530</td>\n",
       "    </tr>\n",
       "    <tr>\n",
       "      <th>favs_lognorm</th>\n",
       "      <td>-0.005845</td>\n",
       "      <td>-0.036385</td>\n",
       "      <td>0.356481</td>\n",
       "      <td>0.278942</td>\n",
       "      <td>0.587982</td>\n",
       "      <td>0.406782</td>\n",
       "      <td>0.449712</td>\n",
       "      <td>0.088226</td>\n",
       "      <td>0.688811</td>\n",
       "      <td>1.000000</td>\n",
       "      <td>0.479476</td>\n",
       "    </tr>\n",
       "    <tr>\n",
       "      <th>comments_lognorm</th>\n",
       "      <td>-0.001605</td>\n",
       "      <td>0.071417</td>\n",
       "      <td>0.073132</td>\n",
       "      <td>0.662740</td>\n",
       "      <td>0.263239</td>\n",
       "      <td>0.326427</td>\n",
       "      <td>0.525081</td>\n",
       "      <td>0.355458</td>\n",
       "      <td>0.546530</td>\n",
       "      <td>0.479476</td>\n",
       "      <td>1.000000</td>\n",
       "    </tr>\n",
       "  </tbody>\n",
       "</table>\n",
       "</div>"
      ],
      "text/plain": [
       "                   post_id   polling  content_len  comments      favs  \\\n",
       "post_id           1.000000  0.081628     0.241384 -0.147763  0.089313   \n",
       "polling           0.081628  1.000000    -0.003337  0.042605  0.006882   \n",
       "content_len       0.241384 -0.003337     1.000000 -0.023544  0.308194   \n",
       "comments         -0.147763  0.042605    -0.023544  1.000000  0.164166   \n",
       "favs              0.089313  0.006882     0.308194  0.164166  1.000000   \n",
       "views             0.132385  0.025660     0.204101  0.290035  0.634304   \n",
       "votes_plus       -0.187885 -0.033505     0.068779  0.613961  0.416241   \n",
       "votes_minus      -0.235594  0.027116    -0.078686  0.457638  0.062877   \n",
       "views_lognorm    -0.010376 -0.003523     0.246063  0.349568  0.456097   \n",
       "favs_lognorm     -0.005845 -0.036385     0.356481  0.278942  0.587982   \n",
       "comments_lognorm -0.001605  0.071417     0.073132  0.662740  0.263239   \n",
       "\n",
       "                     views  votes_plus  votes_minus  views_lognorm  \\\n",
       "post_id           0.132385   -0.187885    -0.235594      -0.010376   \n",
       "polling           0.025660   -0.033505     0.027116      -0.003523   \n",
       "content_len       0.204101    0.068779    -0.078686       0.246063   \n",
       "comments          0.290035    0.613961     0.457638       0.349568   \n",
       "favs              0.634304    0.416241     0.062877       0.456097   \n",
       "views             1.000000    0.396849     0.128654       0.585105   \n",
       "votes_plus        0.396849    1.000000     0.464168       0.414232   \n",
       "votes_minus       0.128654    0.464168     1.000000       0.146609   \n",
       "views_lognorm     0.585105    0.414232     0.146609       1.000000   \n",
       "favs_lognorm      0.406782    0.449712     0.088226       0.688811   \n",
       "comments_lognorm  0.326427    0.525081     0.355458       0.546530   \n",
       "\n",
       "                  favs_lognorm  comments_lognorm  \n",
       "post_id              -0.005845         -0.001605  \n",
       "polling              -0.036385          0.071417  \n",
       "content_len           0.356481          0.073132  \n",
       "comments              0.278942          0.662740  \n",
       "favs                  0.587982          0.263239  \n",
       "views                 0.406782          0.326427  \n",
       "votes_plus            0.449712          0.525081  \n",
       "votes_minus           0.088226          0.355458  \n",
       "views_lognorm         0.688811          0.546530  \n",
       "favs_lognorm          1.000000          0.479476  \n",
       "comments_lognorm      0.479476          1.000000  "
      ]
     },
     "execution_count": 12,
     "metadata": {},
     "output_type": "execute_result"
    }
   ],
   "source": [
    "#ваш код здесь\n",
    "corr_matrix = train_df.corr()\n",
    "corr_matrix"
   ]
  },
  {
   "cell_type": "code",
   "execution_count": 13,
   "metadata": {
    "collapsed": false
   },
   "outputs": [
    {
     "data": {
      "text/plain": [
       "<matplotlib.axes._subplots.AxesSubplot at 0x7fb3c17a27b8>"
      ]
     },
     "execution_count": 13,
     "metadata": {},
     "output_type": "execute_result"
    },
    {
     "data": {
      "image/png": "[encoded data removed]",
      "text/plain": [
       "<matplotlib.figure.Figure at 0x7fb3c173ae80>"
      ]
     },
     "metadata": {},
     "output_type": "display_data"
    }
   ],
   "source": [
    "sns.heatmap(corr_matrix)"
   ]
  },
  {
   "cell_type": "code",
   "execution_count": 29,
   "metadata": {
    "collapsed": false
   },
   "outputs": [
    {
     "data": {
      "text/plain": [
       "array([ 1.,  1.,  1.,  1.,  1.,  1.,  1.,  1.,  1.,  1.,  1.])"
      ]
     },
     "execution_count": 29,
     "metadata": {},
     "output_type": "execute_result"
    }
   ],
   "source": [
    "corr_matrix.values[corr_matrix.values>0.9]"
   ]
  },
  {
   "cell_type": "markdown",
   "metadata": {},
   "source": [
    "<font color='red'>Вопрос 2.</font> В каком году было больше всего публикаций? (Рассматриваем train_df)\n",
    "- 2014\n",
    "- 2015\n",
    "- 2016\n",
    "- 2017"
   ]
  },
  {
   "cell_type": "code",
   "execution_count": 42,
   "metadata": {
    "collapsed": false
   },
   "outputs": [],
   "source": [
    "years = pd.Series([pd.to_datetime(d).year for d in train_df.published])"
   ]
  },
  {
   "cell_type": "code",
   "execution_count": 43,
   "metadata": {
    "collapsed": false
   },
   "outputs": [
    {
     "data": {
      "text/plain": [
       "2015    23452\n",
       "2016    16316\n",
       "2014    16180\n",
       "2012    15972\n",
       "2013    15537\n",
       "2011    15063\n",
       "2010    13091\n",
       "2009    10783\n",
       "2008     7743\n",
       "dtype: int64"
      ]
     },
     "execution_count": 43,
     "metadata": {},
     "output_type": "execute_result"
    }
   ],
   "source": [
    "years.value_counts()"
   ]
  },
  {
   "cell_type": "markdown",
   "metadata": {},
   "source": [
    "## Разбиение на train/valid\n",
    "Используем только признаки 'author', 'flow', 'domain' и 'title'"
   ]
  },
  {
   "cell_type": "code",
   "execution_count": 9,
   "metadata": {
    "collapsed": true
   },
   "outputs": [],
   "source": [
    "features = ['author', 'flow', 'domain','title']\n",
    "train_size = int(0.7 * train_df.shape[0])"
   ]
  },
  {
   "cell_type": "code",
   "execution_count": 10,
   "metadata": {
    "collapsed": false
   },
   "outputs": [
    {
     "data": {
      "text/plain": [
       "(134137, 93895)"
      ]
     },
     "execution_count": 10,
     "metadata": {},
     "output_type": "execute_result"
    }
   ],
   "source": [
    "len(train_df),train_size"
   ]
  },
  {
   "cell_type": "code",
   "execution_count": 11,
   "metadata": {
    "collapsed": true
   },
   "outputs": [],
   "source": [
    "X, y = train_df.ix[:, features],  train_df['favs_lognorm'] #отделяем признаки от целевой переменной\n",
    "\n",
    "X_test = test_df.ix[:, features]"
   ]
  },
  {
   "cell_type": "code",
   "execution_count": 12,
   "metadata": {
    "collapsed": false
   },
   "outputs": [],
   "source": [
    "X_train, X_valid = X.iloc[:train_size, :], X.iloc[train_size:,:]\n",
    "\n",
    "y_train, y_valid = y.iloc[:train_size], y.iloc[train_size:]"
   ]
  },
  {
   "cell_type": "markdown",
   "metadata": {},
   "source": [
    "## Применение TfidfVectorizer\n",
    "\n",
    "**TF-IDF** (от англ. TF — term frequency, IDF — inverse document frequency) — статистическая мера, используемая для оценки важности слова в контексте документа, являющегося частью коллекции документов или корпуса. Вес некоторого слова пропорционален количеству употребления этого слова в документе, и обратно пропорционален частоте употребления слова в других документах коллекции. [Подробнее в источнике](https://ru.wikipedia.org/wiki/TF-IDF)\n",
    "\n",
    "TfidfVectorizer преобразует тексты в матрицу TF-IDF признаков.\n",
    "\n",
    "**Основные параметры TfidfVectorizer в sklearn:**\n",
    "- **min_df** - при построении словаря слова, которые встречаются *реже*, чем указанное значение, игнорируются\n",
    "- **max_df** - при построении словаря слова, которые встречаются *чаще*, чем указанное значение, игнорируются\n",
    "- **analyzer** - определяет, строятся ли признаки по словам или по символам (буквам)\n",
    "- **ngram_range** - определяет, формируются ли признаки только из отдельных слов или из нескольких слов (в случае с analyzer='char' задает количество символов). Например, если указать analyzer='word' и ngram_range=(1,3),то признаки будут формироваться из отдельных слов, из пар слов и из троек слов.\n",
    "- **stop_words** - слова, которые игнорируются при построении матрицы\n",
    "\n",
    "Более подробно с параметрами можно ознакомиться в [документации](http://scikit-learn.org/stable/modules/generated/sklearn.feature_extraction.text.TfidfVectorizer.html)"
   ]
  },
  {
   "cell_type": "markdown",
   "metadata": {},
   "source": [
    "**Инициализируйте TfidfVectorizer с параметрами min_df=3, max_df=0.3 и ngram_range=(1, 3).<br />\n",
    "Примените метод fit_transform к X_train['title'] и метод transform к X_valid['title'] и X_test['title']**"
   ]
  },
  {
   "cell_type": "markdown",
   "metadata": {},
   "source": [
    "<font color='red'>Вопрос 3.</font> Какой размер у полученного словаря?\n",
    "- 43789\n",
    "- 50624\n",
    "- 93895\n",
    "- 74378"
   ]
  },
  {
   "cell_type": "code",
   "execution_count": 49,
   "metadata": {
    "collapsed": false
   },
   "outputs": [],
   "source": [
    "vectorizer_title = TfidfVectorizer(min_df=3,max_df=0.3,ngram_range=(1,3))  #ваш код здесь\n",
    "\n",
    "X_train_title = vectorizer_title.fit_transform(X_train['title'])  #и здесь\n",
    "X_valid_title = vectorizer_title.transform(X_valid.title)#и тут тоже\n",
    "X_test_title = vectorizer_title.transform(X_test.title)#и тут"
   ]
  },
  {
   "cell_type": "code",
   "execution_count": 21,
   "metadata": {
    "collapsed": false,
    "scrolled": true
   },
   "outputs": [],
   "source": [
    "#Можно посмотреть словарь в виде {'термин': индекс признака,...}\n",
    "voc = vectorizer_title.vocabulary_"
   ]
  },
  {
   "cell_type": "code",
   "execution_count": 20,
   "metadata": {
    "collapsed": false
   },
   "outputs": [
    {
     "data": {
      "text/plain": [
       "50624"
      ]
     },
     "execution_count": 20,
     "metadata": {},
     "output_type": "execute_result"
    }
   ],
   "source": [
    "#ваш код здесь\n",
    "len(vectorizer_title.vocabulary_)"
   ]
  },
  {
   "cell_type": "markdown",
   "metadata": {},
   "source": [
    "<font color='red'>Вопрос 4.</font> Какой индекс у слова 'python'?\n",
    "- 1\n",
    "- 10\n",
    "- 9065\n",
    "- 15679"
   ]
  },
  {
   "cell_type": "code",
   "execution_count": 22,
   "metadata": {
    "collapsed": false
   },
   "outputs": [
    {
     "data": {
      "text/plain": [
       "9065"
      ]
     },
     "execution_count": 22,
     "metadata": {},
     "output_type": "execute_result"
    }
   ],
   "source": [
    "#ваш код здесь\n",
    "voc['python']"
   ]
  },
  {
   "cell_type": "markdown",
   "metadata": {},
   "source": [
    "**Инициализируйте TfidfVectorizer, указав analyzer='char'.<br />\n",
    "Примените метод fit_transform к X_train['title'] и метод transform к X_valid['title'] и X_test['title']**"
   ]
  },
  {
   "cell_type": "markdown",
   "metadata": {},
   "source": [
    "<font color='red'>Вопрос 5.</font> Какой размер у полученного словаря?\n",
    "- 218\n",
    "- 510\n",
    "- 125\n",
    "- 981"
   ]
  },
  {
   "cell_type": "code",
   "execution_count": 51,
   "metadata": {
    "collapsed": false
   },
   "outputs": [],
   "source": [
    "vectorizer_title_ch = TfidfVectorizer(analyzer='char')#ваш код здесь\n",
    "\n",
    "X_train_title_ch = vectorizer_title_ch.fit_transform(X_train.title)#...\n",
    "X_valid_title_ch = vectorizer_title_ch.transform(X_valid.title)#...\n",
    "X_test_title_ch = vectorizer_title_ch.transform(X_test.title)#..."
   ]
  },
  {
   "cell_type": "code",
   "execution_count": 27,
   "metadata": {
    "collapsed": false
   },
   "outputs": [
    {
     "data": {
      "text/plain": [
       "{' ': 0,\n",
       " '!': 1,\n",
       " '\"': 2,\n",
       " '#': 3,\n",
       " '$': 4,\n",
       " '%': 5,\n",
       " '&': 6,\n",
       " \"'\": 7,\n",
       " '(': 8,\n",
       " ')': 9,\n",
       " '*': 10,\n",
       " '+': 11,\n",
       " ',': 12,\n",
       " '-': 13,\n",
       " '.': 14,\n",
       " '/': 15,\n",
       " '0': 16,\n",
       " '1': 17,\n",
       " '2': 18,\n",
       " '3': 19,\n",
       " '4': 20,\n",
       " '5': 21,\n",
       " '6': 22,\n",
       " '7': 23,\n",
       " '8': 24,\n",
       " '9': 25,\n",
       " ':': 26,\n",
       " ';': 27,\n",
       " '<': 28,\n",
       " '=': 29,\n",
       " '>': 30,\n",
       " '?': 31,\n",
       " '@': 32,\n",
       " '[': 33,\n",
       " '\\\\': 34,\n",
       " ']': 35,\n",
       " '^': 36,\n",
       " '_': 37,\n",
       " '`': 38,\n",
       " 'a': 39,\n",
       " 'b': 40,\n",
       " 'c': 41,\n",
       " 'd': 42,\n",
       " 'e': 43,\n",
       " 'f': 44,\n",
       " 'g': 45,\n",
       " 'h': 46,\n",
       " 'i': 47,\n",
       " 'j': 48,\n",
       " 'k': 49,\n",
       " 'l': 50,\n",
       " 'm': 51,\n",
       " 'n': 52,\n",
       " 'o': 53,\n",
       " 'p': 54,\n",
       " 'q': 55,\n",
       " 'r': 56,\n",
       " 's': 57,\n",
       " 't': 58,\n",
       " 'u': 59,\n",
       " 'v': 60,\n",
       " 'w': 61,\n",
       " 'x': 62,\n",
       " 'y': 63,\n",
       " 'z': 64,\n",
       " '{': 65,\n",
       " '|': 66,\n",
       " '}': 67,\n",
       " '~': 68,\n",
       " '\\x92': 69,\n",
       " '\\x97': 70,\n",
       " '\\xa0': 71,\n",
       " '£': 72,\n",
       " '¥': 73,\n",
       " '§': 74,\n",
       " '©': 75,\n",
       " '«': 76,\n",
       " '\\xad': 77,\n",
       " '®': 78,\n",
       " '°': 79,\n",
       " '±': 80,\n",
       " '²': 81,\n",
       " 'µ': 82,\n",
       " '·': 83,\n",
       " '¹': 84,\n",
       " '»': 85,\n",
       " '¼': 86,\n",
       " '½': 87,\n",
       " '×': 88,\n",
       " 'à': 89,\n",
       " 'á': 90,\n",
       " 'â': 91,\n",
       " 'ä': 92,\n",
       " 'ç': 93,\n",
       " 'é': 94,\n",
       " 'ë': 95,\n",
       " 'ï': 96,\n",
       " 'ñ': 97,\n",
       " 'ò': 98,\n",
       " 'ó': 99,\n",
       " 'ö': 100,\n",
       " 'ø': 101,\n",
       " 'ù': 102,\n",
       " 'ú': 103,\n",
       " 'ü': 104,\n",
       " 'ı': 105,\n",
       " 'ǝ': 106,\n",
       " 'ɟ': 107,\n",
       " 'ʇ': 108,\n",
       " '́': 109,\n",
       " '̆': 110,\n",
       " '̱': 111,\n",
       " '̲': 112,\n",
       " '̶': 113,\n",
       " 'β': 114,\n",
       " 'δ': 115,\n",
       " 'λ': 116,\n",
       " 'μ': 117,\n",
       " 'π': 118,\n",
       " 'ω': 119,\n",
       " 'а': 120,\n",
       " 'б': 121,\n",
       " 'в': 122,\n",
       " 'г': 123,\n",
       " 'д': 124,\n",
       " 'е': 125,\n",
       " 'ж': 126,\n",
       " 'з': 127,\n",
       " 'и': 128,\n",
       " 'й': 129,\n",
       " 'к': 130,\n",
       " 'л': 131,\n",
       " 'м': 132,\n",
       " 'н': 133,\n",
       " 'о': 134,\n",
       " 'п': 135,\n",
       " 'р': 136,\n",
       " 'с': 137,\n",
       " 'т': 138,\n",
       " 'у': 139,\n",
       " 'ф': 140,\n",
       " 'х': 141,\n",
       " 'ц': 142,\n",
       " 'ч': 143,\n",
       " 'ш': 144,\n",
       " 'щ': 145,\n",
       " 'ъ': 146,\n",
       " 'ы': 147,\n",
       " 'ь': 148,\n",
       " 'э': 149,\n",
       " 'ю': 150,\n",
       " 'я': 151,\n",
       " 'ё': 152,\n",
       " 'і': 153,\n",
       " 'ї': 154,\n",
       " 'ј': 155,\n",
       " 'ў': 156,\n",
       " 'ѣ': 157,\n",
       " 'қ': 158,\n",
       " '۞': 159,\n",
       " '۩': 160,\n",
       " '฿': 161,\n",
       " '\\u2002': 162,\n",
       " '\\u2006': 163,\n",
       " '\\u2009': 164,\n",
       " '\\u200b': 165,\n",
       " '\\u200e': 166,\n",
       " '‐': 167,\n",
       " '‑': 168,\n",
       " '–': 169,\n",
       " '—': 170,\n",
       " '―': 171,\n",
       " '‘': 172,\n",
       " '’': 173,\n",
       " '“': 174,\n",
       " '”': 175,\n",
       " '„': 176,\n",
       " '•': 177,\n",
       " '…': 178,\n",
       " '\\u2028': 179,\n",
       " '\\u202c': 180,\n",
       " '\\u202d': 181,\n",
       " '′': 182,\n",
       " '″': 183,\n",
       " '‽': 184,\n",
       " '⁰': 185,\n",
       " '€': 186,\n",
       " '№': 187,\n",
       " '™': 188,\n",
       " '⅓': 189,\n",
       " '⅜': 190,\n",
       " '←': 191,\n",
       " '↑': 192,\n",
       " '→': 193,\n",
       " '↔': 194,\n",
       " '↺': 195,\n",
       " '⇄': 196,\n",
       " '⇒': 197,\n",
       " '⇨': 198,\n",
       " '−': 199,\n",
       " '∙': 200,\n",
       " '≈': 201,\n",
       " '≠': 202,\n",
       " '━': 203,\n",
       " '▼': 204,\n",
       " '☠': 205,\n",
       " '☢': 206,\n",
       " '☣': 207,\n",
       " '☼': 208,\n",
       " '♠': 209,\n",
       " '♥': 210,\n",
       " '♫': 211,\n",
       " '❤': 212,\n",
       " '印': 213,\n",
       " '打': 214,\n",
       " '机': 215,\n",
       " '\\ufeff': 216,\n",
       " '！': 217}"
      ]
     },
     "execution_count": 27,
     "metadata": {},
     "output_type": "execute_result"
    }
   ],
   "source": [
    "#Здесь так же можно посмотреть словарь\n",
    "#Заметьте насколько отличаются словари для TfidfVectorizer с analyzer='word' и analyzer='char'\n",
    "vectorizer_title_ch.vocabulary_"
   ]
  },
  {
   "cell_type": "code",
   "execution_count": 28,
   "metadata": {
    "collapsed": false
   },
   "outputs": [
    {
     "data": {
      "text/plain": [
       "218"
      ]
     },
     "execution_count": 28,
     "metadata": {},
     "output_type": "execute_result"
    }
   ],
   "source": [
    "#ваш код здесь\n",
    "len(vectorizer_title_ch.vocabulary_)"
   ]
  },
  {
   "cell_type": "markdown",
   "metadata": {},
   "source": [
    "## Работа с категориальными признаками\n",
    "\n",
    "Для обработки категориальных признаков 'author', 'flow', 'domain' мы будем использовать DictVectorizer из sklearn."
   ]
  },
  {
   "cell_type": "code",
   "execution_count": 29,
   "metadata": {
    "collapsed": false,
    "scrolled": true
   },
   "outputs": [
    {
     "data": {
      "text/html": [
       "<div>\n",
       "<table border=\"1\" class=\"dataframe\">\n",
       "  <thead>\n",
       "    <tr style=\"text-align: right;\">\n",
       "      <th></th>\n",
       "      <th>author</th>\n",
       "      <th>flow</th>\n",
       "      <th>domain</th>\n",
       "    </tr>\n",
       "  </thead>\n",
       "  <tbody>\n",
       "    <tr>\n",
       "      <th>0</th>\n",
       "      <td>@Tapac</td>\n",
       "      <td>develop</td>\n",
       "      <td>habrahabr.ru</td>\n",
       "    </tr>\n",
       "    <tr>\n",
       "      <th>1</th>\n",
       "      <td>@DezmASter</td>\n",
       "      <td>design</td>\n",
       "      <td>habrahabr.ru</td>\n",
       "    </tr>\n",
       "    <tr>\n",
       "      <th>2</th>\n",
       "      <td>@DezmASter</td>\n",
       "      <td>design</td>\n",
       "      <td>habrahabr.ru</td>\n",
       "    </tr>\n",
       "    <tr>\n",
       "      <th>3</th>\n",
       "      <td>@Taoorus</td>\n",
       "      <td>design</td>\n",
       "      <td>habrahabr.ru</td>\n",
       "    </tr>\n",
       "    <tr>\n",
       "      <th>4</th>\n",
       "      <td>@dennydo</td>\n",
       "      <td>NaN</td>\n",
       "      <td>geektimes.ru</td>\n",
       "    </tr>\n",
       "  </tbody>\n",
       "</table>\n",
       "</div>"
      ],
      "text/plain": [
       "       author     flow        domain\n",
       "0      @Tapac  develop  habrahabr.ru\n",
       "1  @DezmASter   design  habrahabr.ru\n",
       "2  @DezmASter   design  habrahabr.ru\n",
       "3    @Taoorus   design  habrahabr.ru\n",
       "4    @dennydo      NaN  geektimes.ru"
      ]
     },
     "execution_count": 29,
     "metadata": {},
     "output_type": "execute_result"
    }
   ],
   "source": [
    "feats = ['author', 'flow', 'domain']\n",
    "X_train[feats][:5]"
   ]
  },
  {
   "cell_type": "markdown",
   "metadata": {},
   "source": [
    "Рассмотрим как он работает на примере первых пяти строк"
   ]
  },
  {
   "cell_type": "code",
   "execution_count": 30,
   "metadata": {
    "collapsed": false
   },
   "outputs": [
    {
     "data": {
      "text/html": [
       "<div>\n",
       "<table border=\"1\" class=\"dataframe\">\n",
       "  <thead>\n",
       "    <tr style=\"text-align: right;\">\n",
       "      <th></th>\n",
       "      <th>author</th>\n",
       "      <th>flow</th>\n",
       "      <th>domain</th>\n",
       "    </tr>\n",
       "  </thead>\n",
       "  <tbody>\n",
       "    <tr>\n",
       "      <th>0</th>\n",
       "      <td>@Tapac</td>\n",
       "      <td>develop</td>\n",
       "      <td>habrahabr.ru</td>\n",
       "    </tr>\n",
       "    <tr>\n",
       "      <th>1</th>\n",
       "      <td>@DezmASter</td>\n",
       "      <td>design</td>\n",
       "      <td>habrahabr.ru</td>\n",
       "    </tr>\n",
       "    <tr>\n",
       "      <th>2</th>\n",
       "      <td>@DezmASter</td>\n",
       "      <td>design</td>\n",
       "      <td>habrahabr.ru</td>\n",
       "    </tr>\n",
       "    <tr>\n",
       "      <th>3</th>\n",
       "      <td>@Taoorus</td>\n",
       "      <td>design</td>\n",
       "      <td>habrahabr.ru</td>\n",
       "    </tr>\n",
       "    <tr>\n",
       "      <th>4</th>\n",
       "      <td>@dennydo</td>\n",
       "      <td>-</td>\n",
       "      <td>geektimes.ru</td>\n",
       "    </tr>\n",
       "  </tbody>\n",
       "</table>\n",
       "</div>"
      ],
      "text/plain": [
       "       author     flow        domain\n",
       "0      @Tapac  develop  habrahabr.ru\n",
       "1  @DezmASter   design  habrahabr.ru\n",
       "2  @DezmASter   design  habrahabr.ru\n",
       "3    @Taoorus   design  habrahabr.ru\n",
       "4    @dennydo        -  geektimes.ru"
      ]
     },
     "execution_count": 30,
     "metadata": {},
     "output_type": "execute_result"
    }
   ],
   "source": [
    "#сначала заполняем пропуски прочерком\n",
    "X_train[feats][:5].fillna('-')"
   ]
  },
  {
   "cell_type": "code",
   "execution_count": 31,
   "metadata": {
    "collapsed": false
   },
   "outputs": [
    {
     "data": {
      "text/plain": [
       "{0: {'author': '@Tapac', 'domain': 'habrahabr.ru', 'flow': 'develop'},\n",
       " 1: {'author': '@DezmASter', 'domain': 'habrahabr.ru', 'flow': 'design'},\n",
       " 2: {'author': '@DezmASter', 'domain': 'habrahabr.ru', 'flow': 'design'},\n",
       " 3: {'author': '@Taoorus', 'domain': 'habrahabr.ru', 'flow': 'design'},\n",
       " 4: {'author': '@dennydo', 'domain': 'geektimes.ru', 'flow': '-'}}"
      ]
     },
     "execution_count": 31,
     "metadata": {},
     "output_type": "execute_result"
    }
   ],
   "source": [
    "#Преобразуем датафрейм в словарь, где ключами являются индексы объектов (именно для этого мы транспонировали датафрейм),\n",
    "#а значениями являются словари в виде 'название_колонки':'значение'\n",
    "X_train[feats][:5].fillna('-').T.to_dict()"
   ]
  },
  {
   "cell_type": "code",
   "execution_count": 32,
   "metadata": {
    "collapsed": false
   },
   "outputs": [
    {
     "data": {
      "text/plain": [
       "dict_values([{'author': '@Tapac', 'flow': 'develop', 'domain': 'habrahabr.ru'}, {'author': '@DezmASter', 'flow': 'design', 'domain': 'habrahabr.ru'}, {'author': '@DezmASter', 'flow': 'design', 'domain': 'habrahabr.ru'}, {'author': '@Taoorus', 'flow': 'design', 'domain': 'habrahabr.ru'}, {'author': '@dennydo', 'flow': '-', 'domain': 'geektimes.ru'}])"
      ]
     },
     "execution_count": 32,
     "metadata": {},
     "output_type": "execute_result"
    }
   ],
   "source": [
    "#В DictVectorizer нам нужно будет передать список словарей для каждого объекта в виде 'название_колонки':'значение',\n",
    "#поэтому используем .values()\n",
    "X_train[feats][:5].fillna('-').T.to_dict().values()"
   ]
  },
  {
   "cell_type": "code",
   "execution_count": 33,
   "metadata": {
    "collapsed": false
   },
   "outputs": [
    {
     "data": {
      "text/plain": [
       "<5x9 sparse matrix of type '<class 'numpy.float64'>'\n",
       "\twith 15 stored elements in Compressed Sparse Row format>"
      ]
     },
     "execution_count": 33,
     "metadata": {},
     "output_type": "execute_result"
    }
   ],
   "source": [
    "#В итоге получается разреженная матрица\n",
    "dict_vect = DictVectorizer()\n",
    "dict_vect_matrix = dict_vect.fit_transform(X_train[feats][:5].fillna('-').T.to_dict().values())\n",
    "dict_vect_matrix"
   ]
  },
  {
   "cell_type": "code",
   "execution_count": 34,
   "metadata": {
    "collapsed": false
   },
   "outputs": [
    {
     "data": {
      "text/plain": [
       "array([[ 0.,  0.,  1.,  0.,  0.,  1.,  0.,  0.,  1.],\n",
       "       [ 1.,  0.,  0.,  0.,  0.,  1.,  0.,  1.,  0.],\n",
       "       [ 1.,  0.,  0.,  0.,  0.,  1.,  0.,  1.,  0.],\n",
       "       [ 0.,  1.,  0.,  0.,  0.,  1.,  0.,  1.,  0.],\n",
       "       [ 0.,  0.,  0.,  1.,  1.,  0.,  1.,  0.,  0.]])"
      ]
     },
     "execution_count": 34,
     "metadata": {},
     "output_type": "execute_result"
    }
   ],
   "source": [
    "#Но можно преобразовать ее в numpy array с помощью .toarray()\n",
    "dict_vect_matrix.toarray()"
   ]
  },
  {
   "cell_type": "code",
   "execution_count": 35,
   "metadata": {
    "collapsed": false
   },
   "outputs": [
    {
     "data": {
      "text/plain": [
       "(5, 9)"
      ]
     },
     "execution_count": 35,
     "metadata": {},
     "output_type": "execute_result"
    }
   ],
   "source": [
    "#В получившейся матрице 5 строк (по числу объектов) и 9 столбцов\n",
    "#Далее разберемся почему колонок именно 9\n",
    "dict_vect_matrix.shape"
   ]
  },
  {
   "cell_type": "markdown",
   "metadata": {},
   "source": [
    "Посмотрим сколько уникальных значений в каждой колонке.<br />\n",
    "Суммарно их 9 - столько же, сколько и колонок. Это объясняется тем, что для категориальных признаков со строковыми значениями DictVectorizer делает кодирование бинарными признаками - каждому уникальному значению признака соответствует один новый бинарный признак, который равен 1 только в том случае, если в исходной матрице этот признак принимает значение, которому соответствует эта колонка новой матрицы."
   ]
  },
  {
   "cell_type": "code",
   "execution_count": 19,
   "metadata": {
    "collapsed": false
   },
   "outputs": [
    {
     "name": "stdout",
     "output_type": "stream",
     "text": [
      "author 4\n",
      "flow 3\n",
      "domain 2\n"
     ]
    }
   ],
   "source": [
    "for col in feats:\n",
    "    print(col,len(X_train[col][:5].fillna('-').unique()))"
   ]
  },
  {
   "cell_type": "markdown",
   "metadata": {},
   "source": [
    "Также можно посмотреть что означает каждая колонка полученной матрицы"
   ]
  },
  {
   "cell_type": "code",
   "execution_count": 20,
   "metadata": {
    "collapsed": false
   },
   "outputs": [
    {
     "data": {
      "text/plain": [
       "['author=@DezmASter',\n",
       " 'author=@Taoorus',\n",
       " 'author=@Tapac',\n",
       " 'author=@dennydo',\n",
       " 'domain=geektimes.ru',\n",
       " 'domain=habrahabr.ru',\n",
       " 'flow=-',\n",
       " 'flow=design',\n",
       " 'flow=develop']"
      ]
     },
     "execution_count": 20,
     "metadata": {},
     "output_type": "execute_result"
    }
   ],
   "source": [
    "#например, самая первая колонка называется 'author=@DezmASter' - то есть принимает значение 1 только если автор @DezmASter\n",
    "dict_vect.feature_names_"
   ]
  },
  {
   "cell_type": "markdown",
   "metadata": {},
   "source": [
    "**Инициализируйте DictVectorizer с параметрами по умолчанию.<br />\n",
    "Примените метод fit_transform к признакам 'author', 'flow', 'domain' X_train и метод transform к тем же признакам X_valid и X_test**"
   ]
  },
  {
   "cell_type": "code",
   "execution_count": 65,
   "metadata": {
    "collapsed": true
   },
   "outputs": [],
   "source": [
    "vectorizer_feats = DictVectorizer()#ваш код здесь\n",
    "\n",
    "X_train_feats = vectorizer_feats.fit_transform(X_train[feats].fillna('-').T.to_dict().values())#...\n",
    "X_valid_feats = vectorizer_feats.transform(X_valid[feats].fillna('-').T.to_dict().values())#...\n",
    "X_test_feats = vectorizer_feats.transform(X_test[feats].fillna('-').T.to_dict().values())#..."
   ]
  },
  {
   "cell_type": "code",
   "execution_count": 40,
   "metadata": {
    "collapsed": false
   },
   "outputs": [
    {
     "data": {
      "text/plain": [
       "(93895, 17869)"
      ]
     },
     "execution_count": 40,
     "metadata": {},
     "output_type": "execute_result"
    }
   ],
   "source": [
    "X_train_feats.shape"
   ]
  },
  {
   "cell_type": "markdown",
   "metadata": {},
   "source": [
    "Соединим все полученные матрицы при помощи scipy.sparse.hstack()"
   ]
  },
  {
   "cell_type": "code",
   "execution_count": 64,
   "metadata": {
    "collapsed": false
   },
   "outputs": [
    {
     "data": {
      "text/plain": [
       "<40242x218 sparse matrix of type '<class 'numpy.float64'>'\n",
       "\twith 1004780 stored elements in Compressed Sparse Row format>"
      ]
     },
     "execution_count": 64,
     "metadata": {},
     "output_type": "execute_result"
    }
   ],
   "source": [
    "X_valid_title_ch"
   ]
  },
  {
   "cell_type": "code",
   "execution_count": 66,
   "metadata": {
    "collapsed": false
   },
   "outputs": [],
   "source": [
    "X_train_new = scipy.sparse.hstack([X_train_title, X_train_feats, X_train_title_ch])\n",
    "X_valid_new = scipy.sparse.hstack([X_valid_title, X_valid_feats, X_valid_title_ch])\n",
    "X_test_new =  scipy.sparse.hstack([X_test_title, X_test_feats, X_test_title_ch])"
   ]
  },
  {
   "cell_type": "markdown",
   "metadata": {},
   "source": [
    "## Обучение модели\n",
    "\n",
    "Далее будем использовать Ridge, линейную модель с l2-регуляризацией.\n",
    "[Документация](http://scikit-learn.org/stable/modules/generated/sklearn.linear_model.Ridge.html)\n",
    "\n",
    "Основной параметр Ridge - **alpha, коэффициент регуляризации**. Регуляризация используется для улучшения обобщающей способности модели - прибавляя к функционалу потерь сумму квадратов весов, умноженную на коэффициент регуляризации (та самая alpha), мы штрафуем модель за слишком большие значения весов и не позволяем ей переобучаться. Чем больше этот коээфициент, тем сильнее эффект."
   ]
  },
  {
   "cell_type": "markdown",
   "metadata": {},
   "source": [
    "**Обучите две модели на X_train_new, y_train, задав в первой alpha=0.1 и random_state = 1, а во второй alpha=1.0 и random_state = 1**\n",
    "\n",
    "**Рассчитайте среднеквадратичную ошибку каждой модели (mean_squared_error). Сравните значения ошибки на обучающей и тестовой выборках и ответьте на вопросы.**"
   ]
  },
  {
   "cell_type": "markdown",
   "metadata": {},
   "source": [
    "<font color='red'>Вопрос 6.</font> Выберите верные утверждения:\n",
    "- обе модели показывают одинаковый результат (среднеквадратичная ошибка отличается не больше чем на тысячные), регуляризация ничего не меняет\n",
    "- при alpha=0.1 модель переобучается\n",
    "- среднеквадратичная ошибка первой модели на тесте меньше\n",
    "- при alpha=1.0 у модели обощающая способность лучше, чем у при alpha=0.1"
   ]
  },
  {
   "cell_type": "code",
   "execution_count": 69,
   "metadata": {
    "collapsed": false,
    "scrolled": true
   },
   "outputs": [
    {
     "name": "stdout",
     "output_type": "stream",
     "text": [
      "CPU times: user 7.64 s, sys: 16 ms, total: 7.66 s\n",
      "Wall time: 7.66 s\n"
     ]
    }
   ],
   "source": [
    "%%time\n",
    "model1 = Ridge(alpha=0.1,random_state=1)#ваш код здесь\n",
    "model1.fit(X_train_new,y_train)\n",
    "#здесь тоже ваш код"
   ]
  },
  {
   "cell_type": "code",
   "execution_count": 70,
   "metadata": {
    "collapsed": false
   },
   "outputs": [
    {
     "name": "stdout",
     "output_type": "stream",
     "text": [
      "Ошибка на трейне 0.184107031582\n",
      "Ошибка на тесте 0.902647554634\n"
     ]
    }
   ],
   "source": [
    "train_preds1 = model1.predict(X_train_new)\n",
    "valid_preds1 = model1.predict(X_valid_new)\n",
    "\n",
    "print('Ошибка на трейне',mean_squared_error(y_train, train_preds1))\n",
    "print('Ошибка на тесте',mean_squared_error(y_valid, valid_preds1))"
   ]
  },
  {
   "cell_type": "code",
   "execution_count": 72,
   "metadata": {
    "collapsed": false
   },
   "outputs": [
    {
     "name": "stdout",
     "output_type": "stream",
     "text": [
      "CPU times: user 3.07 s, sys: 0 ns, total: 3.07 s\n",
      "Wall time: 3.06 s\n"
     ]
    }
   ],
   "source": [
    "%%time\n",
    "model2 = Ridge(alpha=1.0,random_state=1)#ваш код здесь\n",
    "model2.fit(X_train_new,y_train)\n",
    "#здесь тоже ваш код"
   ]
  },
  {
   "cell_type": "code",
   "execution_count": 73,
   "metadata": {
    "collapsed": false
   },
   "outputs": [
    {
     "name": "stdout",
     "output_type": "stream",
     "text": [
      "Ошибка на трейне 0.28624407471\n",
      "Ошибка на тесте 0.701144627434\n"
     ]
    }
   ],
   "source": [
    "train_preds2 = model2.predict(X_train_new)\n",
    "valid_preds2 = model2.predict(X_valid_new)\n",
    "\n",
    "print('Ошибка на трейне',mean_squared_error(y_train, train_preds2))\n",
    "print('Ошибка на тесте',mean_squared_error(y_valid, valid_preds2))"
   ]
  },
  {
   "cell_type": "markdown",
   "metadata": {},
   "source": [
    "## Baseline\n",
    "\n",
    "**Теперь попытаемся получить бейзлайн для соревования - используйте Ridge с параметрами по умолчанию и обучите модель на всех данных - соедините X_train_new X_valid_new (используйте scipy.sparse.vstack()), а целевой переменной будет y.**"
   ]
  },
  {
   "cell_type": "code",
   "execution_count": 90,
   "metadata": {
    "collapsed": false
   },
   "outputs": [
    {
     "name": "stdout",
     "output_type": "stream",
     "text": [
      "CPU times: user 5.44 s, sys: 24 ms, total: 5.46 s\n",
      "Wall time: 5.46 s\n"
     ]
    }
   ],
   "source": [
    "%%time\n",
    "model = Ridge(alpha=1.0,random_state=1) #ваш код здесь\n",
    "model.fit(scipy.sparse.vstack([X_train_new,X_valid_new]),y)\n",
    "#обучите модель на всех данных\n",
    "\n",
    "test_preds = model.predict(X_test_new)"
   ]
  },
  {
   "cell_type": "code",
   "execution_count": 84,
   "metadata": {
    "collapsed": true
   },
   "outputs": [],
   "source": [
    "with open(\"sample_submission.csv\",\"r\") as f:\n",
    "    r = f.read()"
   ]
  },
  {
   "cell_type": "code",
   "execution_count": 87,
   "metadata": {
    "collapsed": false,
    "scrolled": true
   },
   "outputs": [],
   "source": [
    "sample_submission = pd.read_csv('sample_submission.csv', index_col='url')"
   ]
  },
  {
   "cell_type": "code",
   "execution_count": 88,
   "metadata": {
    "collapsed": false
   },
   "outputs": [
    {
     "data": {
      "text/html": [
       "<div>\n",
       "<table border=\"1\" class=\"dataframe\">\n",
       "  <thead>\n",
       "    <tr style=\"text-align: right;\">\n",
       "      <th></th>\n",
       "      <th>favs_lognorm</th>\n",
       "    </tr>\n",
       "    <tr>\n",
       "      <th>url</th>\n",
       "      <th></th>\n",
       "    </tr>\n",
       "  </thead>\n",
       "  <tbody>\n",
       "    <tr>\n",
       "      <th>https://habrahabr.ru/post/314080/</th>\n",
       "      <td>0.323588</td>\n",
       "    </tr>\n",
       "    <tr>\n",
       "      <th>https://habrahabr.ru/company/plesk/blog/313732/</th>\n",
       "      <td>0.560105</td>\n",
       "    </tr>\n",
       "    <tr>\n",
       "      <th>https://habrahabr.ru/company/etagi/blog/314000/</th>\n",
       "      <td>0.667039</td>\n",
       "    </tr>\n",
       "    <tr>\n",
       "      <th>https://habrahabr.ru/company/knopka/blog/314030/</th>\n",
       "      <td>0.149563</td>\n",
       "    </tr>\n",
       "    <tr>\n",
       "      <th>https://geektimes.ru/company/audiomania/blog/282058/</th>\n",
       "      <td>0.670754</td>\n",
       "    </tr>\n",
       "  </tbody>\n",
       "</table>\n",
       "</div>"
      ],
      "text/plain": [
       "                                                    favs_lognorm\n",
       "url                                                             \n",
       "https://habrahabr.ru/post/314080/                       0.323588\n",
       "https://habrahabr.ru/company/plesk/blog/313732/         0.560105\n",
       "https://habrahabr.ru/company/etagi/blog/314000/         0.667039\n",
       "https://habrahabr.ru/company/knopka/blog/314030/        0.149563\n",
       "https://geektimes.ru/company/audiomania/blog/28...      0.670754"
      ]
     },
     "execution_count": 88,
     "metadata": {},
     "output_type": "execute_result"
    }
   ],
   "source": [
    "sample_submission.head()"
   ]
  },
  {
   "cell_type": "code",
   "execution_count": 91,
   "metadata": {
    "collapsed": false
   },
   "outputs": [],
   "source": [
    "ridge_submission = sample_submission.copy()\n",
    "ridge_submission['favs_lognorm'] = test_preds\n",
    "ridge_submission.to_csv('ridge_baseline.csv') #а вот и бейзлайн"
   ]
  }
 ],
 "metadata": {
  "anaconda-cloud": {},
  "kernelspec": {
   "display_name": "Python 3",
   "language": "python",
   "name": "python3"
  },
  "language_info": {
   "codemirror_mode": {
    "name": "ipython",
    "version": 3
   },
   "file_extension": ".py",
   "mimetype": "text/x-python",
   "name": "python",
   "nbconvert_exporter": "python",
   "pygments_lexer": "ipython3",
   "version": "3.6.0"
  }
 },
 "nbformat": 4,
 "nbformat_minor": 0
}
